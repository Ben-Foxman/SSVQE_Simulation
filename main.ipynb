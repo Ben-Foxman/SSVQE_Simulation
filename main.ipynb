{
  "cells": [
    {
      "cell_type": "markdown",
      "metadata": {
        "id": "JFeVXW4Y9jB5"
      },
      "source": [
        "# Finding energy states of the Discretized 1D Particle in a Box using SSVQE\n",
        "\n",
        "#### In this Jupyter notebook, we use the SSVQE algorithm to find eigenenergies/eigenstates of a particle in an infinite potential well. \n",
        "##### Credit to Yu Jun Shen (www.github.com/GryphonTorch) for initial inspiration."
      ]
    },
    {
      "cell_type": "markdown",
      "metadata": {
        "id": "pAy-2qjhMfpa"
      },
      "source": [
        "#### 0. Imports + Logger Setup"
      ]
    },
    {
      "cell_type": "code",
      "execution_count": 1,
      "metadata": {
        "id": "5Jy4WYkjAhpv"
      },
      "outputs": [
        {
          "ename": "KeyboardInterrupt",
          "evalue": "",
          "output_type": "error",
          "traceback": [
            "\u001b[0;31m---------------------------------------------------------------------------\u001b[0m",
            "\u001b[0;31mKeyboardInterrupt\u001b[0m                         Traceback (most recent call last)",
            "\u001b[0;32m<ipython-input-1-a0be08c246d1>\u001b[0m in \u001b[0;36m<module>\u001b[0;34m\u001b[0m\n\u001b[0;32m----> 1\u001b[0;31m \u001b[0;32mfrom\u001b[0m \u001b[0mqiskit\u001b[0m \u001b[0;32mimport\u001b[0m \u001b[0;34m*\u001b[0m\u001b[0;34m\u001b[0m\u001b[0;34m\u001b[0m\u001b[0m\n\u001b[0m\u001b[1;32m      2\u001b[0m \u001b[0;32mimport\u001b[0m \u001b[0mnumpy\u001b[0m \u001b[0;32mas\u001b[0m \u001b[0mnp\u001b[0m\u001b[0;34m\u001b[0m\u001b[0;34m\u001b[0m\u001b[0m\n\u001b[1;32m      3\u001b[0m \u001b[0;32mimport\u001b[0m \u001b[0mpandas\u001b[0m \u001b[0;32mas\u001b[0m \u001b[0mpd\u001b[0m\u001b[0;34m\u001b[0m\u001b[0;34m\u001b[0m\u001b[0m\n\u001b[1;32m      4\u001b[0m \u001b[0;32mimport\u001b[0m \u001b[0mitertools\u001b[0m\u001b[0;34m\u001b[0m\u001b[0;34m\u001b[0m\u001b[0m\n\u001b[1;32m      5\u001b[0m \u001b[0;32mimport\u001b[0m \u001b[0mfunctools\u001b[0m\u001b[0;34m\u001b[0m\u001b[0;34m\u001b[0m\u001b[0m\n",
            "\u001b[0;32m/usr/local/lib/python3.8/site-packages/qiskit/__init__.py\u001b[0m in \u001b[0;36m<module>\u001b[0;34m\u001b[0m\n\u001b[1;32m     45\u001b[0m \u001b[0;34m\u001b[0m\u001b[0m\n\u001b[1;32m     46\u001b[0m \u001b[0;31m# Please note these are global instances, not modules.\u001b[0m\u001b[0;34m\u001b[0m\u001b[0;34m\u001b[0m\u001b[0;34m\u001b[0m\u001b[0m\n\u001b[0;32m---> 47\u001b[0;31m \u001b[0;32mfrom\u001b[0m \u001b[0mqiskit\u001b[0m\u001b[0;34m.\u001b[0m\u001b[0mproviders\u001b[0m\u001b[0;34m.\u001b[0m\u001b[0mbasicaer\u001b[0m \u001b[0;32mimport\u001b[0m \u001b[0mBasicAer\u001b[0m\u001b[0;34m\u001b[0m\u001b[0;34m\u001b[0m\u001b[0m\n\u001b[0m\u001b[1;32m     48\u001b[0m \u001b[0;34m\u001b[0m\u001b[0m\n\u001b[1;32m     49\u001b[0m \u001b[0m_config\u001b[0m \u001b[0;34m=\u001b[0m \u001b[0m_user_config\u001b[0m\u001b[0;34m.\u001b[0m\u001b[0mget_config\u001b[0m\u001b[0;34m(\u001b[0m\u001b[0;34m)\u001b[0m\u001b[0;34m\u001b[0m\u001b[0;34m\u001b[0m\u001b[0m\n",
            "\u001b[0;32m/usr/local/lib/python3.8/site-packages/qiskit/providers/__init__.py\u001b[0m in \u001b[0;36m<module>\u001b[0;34m\u001b[0m\n\u001b[1;32m    543\u001b[0m \u001b[0;32mfrom\u001b[0m \u001b[0mqiskit\u001b[0m\u001b[0;34m.\u001b[0m\u001b[0mproviders\u001b[0m\u001b[0;34m.\u001b[0m\u001b[0mjob\u001b[0m \u001b[0;32mimport\u001b[0m \u001b[0mJobV1\u001b[0m\u001b[0;34m\u001b[0m\u001b[0;34m\u001b[0m\u001b[0m\n\u001b[1;32m    544\u001b[0m \u001b[0;31m# Legacy providers interface\u001b[0m\u001b[0;34m\u001b[0m\u001b[0;34m\u001b[0m\u001b[0;34m\u001b[0m\u001b[0m\n\u001b[0;32m--> 545\u001b[0;31m \u001b[0;32mfrom\u001b[0m \u001b[0mqiskit\u001b[0m\u001b[0;34m.\u001b[0m\u001b[0mproviders\u001b[0m\u001b[0;34m.\u001b[0m\u001b[0mbasebackend\u001b[0m \u001b[0;32mimport\u001b[0m \u001b[0mBaseBackend\u001b[0m\u001b[0;34m\u001b[0m\u001b[0;34m\u001b[0m\u001b[0m\n\u001b[0m\u001b[1;32m    546\u001b[0m \u001b[0;32mfrom\u001b[0m \u001b[0mqiskit\u001b[0m\u001b[0;34m.\u001b[0m\u001b[0mproviders\u001b[0m\u001b[0;34m.\u001b[0m\u001b[0mbaseprovider\u001b[0m \u001b[0;32mimport\u001b[0m \u001b[0mBaseProvider\u001b[0m\u001b[0;34m\u001b[0m\u001b[0;34m\u001b[0m\u001b[0m\n\u001b[1;32m    547\u001b[0m \u001b[0;32mfrom\u001b[0m \u001b[0mqiskit\u001b[0m\u001b[0;34m.\u001b[0m\u001b[0mproviders\u001b[0m\u001b[0;34m.\u001b[0m\u001b[0mbasejob\u001b[0m \u001b[0;32mimport\u001b[0m \u001b[0mBaseJob\u001b[0m\u001b[0;34m\u001b[0m\u001b[0;34m\u001b[0m\u001b[0m\n",
            "\u001b[0;32m/usr/local/lib/python3.8/site-packages/qiskit/providers/basebackend.py\u001b[0m in \u001b[0;36m<module>\u001b[0;34m\u001b[0m\n\u001b[1;32m     19\u001b[0m \u001b[0;32mfrom\u001b[0m \u001b[0mabc\u001b[0m \u001b[0;32mimport\u001b[0m \u001b[0mABC\u001b[0m\u001b[0;34m,\u001b[0m \u001b[0mabstractmethod\u001b[0m\u001b[0;34m\u001b[0m\u001b[0;34m\u001b[0m\u001b[0m\n\u001b[1;32m     20\u001b[0m \u001b[0;34m\u001b[0m\u001b[0m\n\u001b[0;32m---> 21\u001b[0;31m \u001b[0;32mfrom\u001b[0m \u001b[0mqiskit\u001b[0m\u001b[0;34m.\u001b[0m\u001b[0mversion\u001b[0m \u001b[0;32mimport\u001b[0m \u001b[0mVERSION\u001b[0m \u001b[0;32mas\u001b[0m \u001b[0m__version__\u001b[0m\u001b[0;34m\u001b[0m\u001b[0;34m\u001b[0m\u001b[0m\n\u001b[0m\u001b[1;32m     22\u001b[0m \u001b[0;32mfrom\u001b[0m \u001b[0;34m.\u001b[0m\u001b[0mmodels\u001b[0m \u001b[0;32mimport\u001b[0m \u001b[0mBackendStatus\u001b[0m\u001b[0;34m\u001b[0m\u001b[0;34m\u001b[0m\u001b[0m\n\u001b[1;32m     23\u001b[0m \u001b[0;34m\u001b[0m\u001b[0m\n",
            "\u001b[0;32m/usr/local/lib/python3.8/site-packages/qiskit/version.py\u001b[0m in \u001b[0;36m<module>\u001b[0;34m\u001b[0m\n\u001b[1;32m     18\u001b[0m \u001b[0;32mimport\u001b[0m \u001b[0mos\u001b[0m\u001b[0;34m\u001b[0m\u001b[0;34m\u001b[0m\u001b[0m\n\u001b[1;32m     19\u001b[0m \u001b[0;32mimport\u001b[0m \u001b[0msubprocess\u001b[0m\u001b[0;34m\u001b[0m\u001b[0;34m\u001b[0m\u001b[0m\n\u001b[0;32m---> 20\u001b[0;31m \u001b[0;32mimport\u001b[0m \u001b[0mpkg_resources\u001b[0m\u001b[0;34m\u001b[0m\u001b[0;34m\u001b[0m\u001b[0m\n\u001b[0m\u001b[1;32m     21\u001b[0m \u001b[0;34m\u001b[0m\u001b[0m\n\u001b[1;32m     22\u001b[0m \u001b[0mROOT_DIR\u001b[0m \u001b[0;34m=\u001b[0m \u001b[0mos\u001b[0m\u001b[0;34m.\u001b[0m\u001b[0mpath\u001b[0m\u001b[0;34m.\u001b[0m\u001b[0mdirname\u001b[0m\u001b[0;34m(\u001b[0m\u001b[0mos\u001b[0m\u001b[0;34m.\u001b[0m\u001b[0mpath\u001b[0m\u001b[0;34m.\u001b[0m\u001b[0mabspath\u001b[0m\u001b[0;34m(\u001b[0m\u001b[0m__file__\u001b[0m\u001b[0;34m)\u001b[0m\u001b[0;34m)\u001b[0m\u001b[0;34m\u001b[0m\u001b[0;34m\u001b[0m\u001b[0m\n",
            "\u001b[0;32m/usr/local/lib/python3.8/site-packages/pkg_resources/__init__.py\u001b[0m in \u001b[0;36m<module>\u001b[0;34m\u001b[0m\n\u001b[1;32m   3085\u001b[0m \u001b[0;34m\u001b[0m\u001b[0m\n\u001b[1;32m   3086\u001b[0m \u001b[0;34m\u001b[0m\u001b[0m\n\u001b[0;32m-> 3087\u001b[0;31m \u001b[0;32mclass\u001b[0m \u001b[0mRequirement\u001b[0m\u001b[0;34m(\u001b[0m\u001b[0mpackaging\u001b[0m\u001b[0;34m.\u001b[0m\u001b[0mrequirements\u001b[0m\u001b[0;34m.\u001b[0m\u001b[0mRequirement\u001b[0m\u001b[0;34m)\u001b[0m\u001b[0;34m:\u001b[0m\u001b[0;34m\u001b[0m\u001b[0;34m\u001b[0m\u001b[0m\n\u001b[0m\u001b[1;32m   3088\u001b[0m     \u001b[0;32mdef\u001b[0m \u001b[0m__init__\u001b[0m\u001b[0;34m(\u001b[0m\u001b[0mself\u001b[0m\u001b[0;34m,\u001b[0m \u001b[0mrequirement_string\u001b[0m\u001b[0;34m)\u001b[0m\u001b[0;34m:\u001b[0m\u001b[0;34m\u001b[0m\u001b[0;34m\u001b[0m\u001b[0m\n\u001b[1;32m   3089\u001b[0m         \u001b[0;34m\"\"\"DO NOT CALL THIS UNDOCUMENTED METHOD; use Requirement.parse()!\"\"\"\u001b[0m\u001b[0;34m\u001b[0m\u001b[0;34m\u001b[0m\u001b[0m\n",
            "\u001b[0;31mKeyboardInterrupt\u001b[0m: "
          ]
        }
      ],
      "source": [
        "from qiskit import * \n",
        "import numpy as np\n",
        "import pandas as pd\n",
        "import itertools\n",
        "import functools\n",
        "from enum import Enum\n",
        "import logging \n",
        "\n",
        "open('SSVQE.log', 'w').close()\n",
        "log1 = logging.getLogger('')\n",
        "log1.addHandler(logging.FileHandler('SSVQE.log'))\n",
        "log1.setLevel(25) # above DEBUG"
      ]
    },
    {
      "cell_type": "markdown",
      "metadata": {
        "id": "0oRKDZZvGW1n"
      },
      "source": [
        "#### 1. Global Variables "
      ]
    },
    {
      "cell_type": "markdown",
      "metadata": {
        "id": "vf8QVaQYNQXr"
      },
      "source": [
        "##### Hyperparameters: MODIFY THESE."
      ]
    },
    {
      "cell_type": "code",
      "execution_count": null,
      "metadata": {
        "id": "NQeewqkUAkCq"
      },
      "outputs": [],
      "source": [
        "''' The number of qubits, effectively how discretized the well is. Must be >= 2 since ansatzes have 2-qubit gates. '''\n",
        "n = 2\n",
        "\n",
        "''' The chosen ansatz ids (ids are at the Start of Section 3).'''\n",
        "ANSATZES = [1, 2, 3]\n",
        "\n",
        "''' The number of iterations of the ansatz in the (SS)VQE circuit. '''\n",
        "ITERS = 2\n",
        "\n",
        "''' The number of measurements to take. More measurements = Slower, More Accurate.'''\n",
        "SHOTS = 1024\n",
        "\n",
        "''' Simultaneously find 0 through k-1 th energy states using SSVQE. If k=1, SSVQE becomes just VQE.'''\n",
        "K = 2\n",
        "\n",
        "'''Initial Parameters of the Ansatzes. '''\n",
        "PARAMS = np.random.uniform(0, np.pi, size=10000)\n",
        "\n",
        "'''Optimizer Iterations. '''\n",
        "iterations = 1000\n",
        "\n",
        "'''The Hamiltonian, a Hermitian Operator acting on N=2^n dimensional Complex Hilbert Space.\n",
        "This will be initialized for the 1D particle in a box case in (2). Feel free to define your own \n",
        "Hamiltonian as well. '''\n",
        "H = np.zeros((2 ** n, 2 ** n))\n",
        "\n",
        "''' Weight function for SSVQE - any monotonically decreasing, non-negative function of i (i < K) works.'''\n",
        "weight_name = \"SSVQE_curved_2_qubits\"\n",
        "def get_weights(i):\n",
        "  return K - (0.5 * i)\n",
        " #  return (K ** .75) - (i ** .75)"
      ]
    },
    {
      "cell_type": "markdown",
      "metadata": {
        "id": "j6v-3XojGZsh"
      },
      "source": [
        "##### Hyperparameters: DO NOT MODIFY."
      ]
    },
    {
      "cell_type": "code",
      "execution_count": null,
      "metadata": {
        "id": "CHIdq1VUGcvj"
      },
      "outputs": [],
      "source": [
        "N = 2 ** n # number of states\n",
        "paulis = {\"x\": np.array([[0, 1],  [ 1, 0]], dtype=np.complex128),\n",
        "    \"y\": np.array([[0, -1j],[1j, 0]], dtype=np.complex128),\n",
        "    \"z\": np.array([[1, 0],  [0, -1]], dtype=np.complex128),\n",
        "    \"id\": np.array([[1, 0],  [ 0, 1]], dtype=np.complex128),}"
      ]
    },
    {
      "cell_type": "markdown",
      "metadata": {
        "id": "bLFQaISFERi1"
      },
      "source": [
        "##### 2. Hamiltonian of the Discretized 1D Well. Feel free to change for your Hamiltonian of Interest."
      ]
    },
    {
      "cell_type": "markdown",
      "metadata": {
        "id": "Dxy2DqnLN8xX"
      },
      "source": [
        "##### Get the Hamiltonian"
      ]
    },
    {
      "cell_type": "code",
      "execution_count": null,
      "metadata": {
        "id": "DAQbOFPhAqfd"
      },
      "outputs": [],
      "source": [
        "dx = 1.0 / float(N - 1)   \n",
        "a = 1 / float(2 * dx * dx)\n",
        "H = np.zeros((N, N))  + 2 * a * np.identity(N)\n",
        "for i in range(N - 1):\n",
        "  H[i, i + 1] -= a\n",
        "for i in range(1, N):\n",
        "  H[i, i - 1] -= a"
      ]
    },
    {
      "cell_type": "markdown",
      "metadata": {
        "id": "xC0l0fl0HkZn"
      },
      "source": [
        "##### Hamiltonian Decomposition Helper Functions"
      ]
    },
    {
      "cell_type": "code",
      "execution_count": null,
      "metadata": {
        "id": "HbPnAmNpAkJ0"
      },
      "outputs": [],
      "source": [
        "def HS(M1, M2):\n",
        "    \"\"\"Hilbert-Schmidt-Product of two matrices M1, M2\"\"\"\n",
        "    return (np.dot(M1.conjugate().transpose(), M2)).trace()\n",
        "\n",
        "def decompose(H):\n",
        "    \"\"\"Decompose Hamiltonian H into Pauli matrices\"\"\"\n",
        "    from numpy import kron\n",
        "    decomposition = dict()\n",
        "    for pauli_string in itertools.product(paulis.items(), repeat=n):\n",
        "      factor = tuple([x[0] for x in pauli_string])\n",
        "      coefficient = np.real(1/N * HS(functools.reduce(lambda x, y: np.kron(x, y), [x[1] for x in pauli_string]), H))\n",
        "      if np.abs(coefficient) > 0:\n",
        "        decomposition[factor] = coefficient\n",
        "    return decomposition"
      ]
    },
    {
      "cell_type": "markdown",
      "metadata": {
        "id": "4Rc3Bgr8HoFS"
      },
      "source": [
        "#### 3. Ansatzes: CAN ADD OR MODIFY."
      ]
    },
    {
      "cell_type": "markdown",
      "metadata": {},
      "source": [
        "##### Ansatz Information"
      ]
    },
    {
      "cell_type": "code",
      "execution_count": null,
      "metadata": {},
      "outputs": [],
      "source": [
        "class Ansatz(Enum):\n",
        "  Hardware_Efficient_Ansatz = 0\n",
        "  CNOT_Ansatz = 1\n",
        "  Adiabatic_Ansatz = 2\n",
        "  NewCirc1 = 3\n",
        "  NewCirc2 = 4\n",
        "  NewCirc3 = 5\n",
        "  NewCirc4 = 6\n",
        "  NewCirc5 = 7\n",
        "  NewCirc6 = 8\n",
        "  NewCirc7 = 9\n",
        "  NewCirc8 = 10\n",
        "  NewCirc9 = 11\n",
        "  NewCirc10 = 12\n",
        "  NewCirc11 = 13\n",
        "  NewCirc12 = 14\n",
        "  NewCirc13 = 15\n",
        "  NewCirc14 = 16\n",
        "  NewCirc15 = 17\n",
        "  NewCirc16 = 18\n",
        "  NewCirc17 = 19\n",
        "  NewCirc18 = 20\n",
        "  NewCirc19 = 21\n",
        "  \n",
        "pcount = { Ansatz.Hardware_Efficient_Ansatz: 2 * n * ITERS,\n",
        "        Ansatz.CNOT_Ansatz: 2 * n * ITERS,\n",
        "        Ansatz.Adiabatic_Ansatz: n * (ITERS + 1),\n",
        "        Ansatz.NewCirc1: 2 * n * ITERS,\n",
        "        Ansatz.NewCirc2: 2 * n * ITERS,\n",
        "        Ansatz.NewCirc3: 2 * n * ITERS + (n - 1) * ITERS,\n",
        "        Ansatz.NewCirc4: 2 * n * ITERS + (n - 1) * ITERS,\n",
        "        Ansatz.NewCirc5: 2 * n * ITERS + (n - 1) * n * ITERS,\n",
        "        Ansatz.NewCirc6: 2 * n * ITERS + (n - 1) * n * ITERS,\n",
        "        Ansatz.NewCirc7: 4 * n * ITERS + (n - 1) * ITERS,\n",
        "        Ansatz.NewCirc8: 4 * n * ITERS + (n - 1) * ITERS,\n",
        "        Ansatz.NewCirc9: n * ITERS,\n",
        "        Ansatz.NewCirc10: n * (ITERS + 1),\n",
        "        Ansatz.NewCirc11: 3 * n * ITERS, # only for 4 qubit case \n",
        "        Ansatz.NewCirc12: 3 * n * ITERS, # only for 4 qubit case \n",
        "        Ansatz.NewCirc13: 4 * n * ITERS,\n",
        "        Ansatz.NewCirc14: 4 * n * ITERS,\n",
        "        Ansatz.NewCirc15: 2 * n * ITERS,\n",
        "        Ansatz.NewCirc16: 2 * n * ITERS + (n - 1) * ITERS,\n",
        "        Ansatz.NewCirc17: 2 * n * ITERS + (n - 1) * ITERS,\n",
        "        Ansatz.NewCirc18: 3 * n * ITERS,\n",
        "        Ansatz.NewCirc19: 3 * n * ITERS,\n",
        "}"
      ]
    },
    {
      "cell_type": "markdown",
      "metadata": {},
      "source": [
        "##### First Ansatz Choices"
      ]
    },
    {
      "cell_type": "code",
      "execution_count": null,
      "metadata": {
        "id": "jxDYvmO3AkSb"
      },
      "outputs": [],
      "source": [
        "# Hardware Efficient Ansatz with ITERS iterations of the skeleton\n",
        "def Hardware_Efficient_Ansatz(params):\n",
        "  assert len(params) == pcount[Ansatz.Hardware_Efficient_Ansatz] \n",
        "  qc = QuantumCircuit(n, n)\n",
        "  p = 0 # parameter count\n",
        "  for _ in range(ITERS):\n",
        "    for i in range(n):\n",
        "      qc.ry(params[p], i) \n",
        "      p += 1\n",
        "      qc.rz(params[p], i)\n",
        "      p += 1\n",
        "    for i in range(n - 1):\n",
        "      qc.rzz(np.pi/2, i, i + 1)\n",
        "  return qc"
      ]
    },
    {
      "cell_type": "code",
      "execution_count": null,
      "metadata": {
        "id": "0iwt3EPr2HjG"
      },
      "outputs": [],
      "source": [
        "def CNOT_Ansatz(params):\n",
        "  assert len(params) == pcount[Ansatz.CNOT_Ansatz]   \n",
        "  qc = QuantumCircuit(n, n)\n",
        "  p = 0 # parameter count\n",
        "  for _ in range(ITERS):\n",
        "    for i in range(n):\n",
        "      qc.ry(params[p], i) \n",
        "      p += 1\n",
        "      qc.rz(params[p], i)\n",
        "      p += 1\n",
        "    for i in range(0, n - 1):\n",
        "      for j in range(i + 1, n):\n",
        "        qc.cx(i, j)\n",
        "  return qc"
      ]
    },
    {
      "cell_type": "code",
      "execution_count": null,
      "metadata": {
        "id": "KxHrKaakEwF0"
      },
      "outputs": [],
      "source": [
        "def Adiabatic_Ansatz(params):\n",
        "  assert len(params) == pcount[Ansatz.Adiabatic_Ansatz]   \n",
        "  qc = QuantumCircuit(n, n)\n",
        "  p = 0 # parameter count\n",
        "  for i in range(n):\n",
        "    qc.ry(params[p], i)\n",
        "    p += 1\n",
        "  for _ in range(ITERS):\n",
        "    for i in range(0, n - 1):\n",
        "        qc.cx(i, i + 1)\n",
        "    for i in range(n):\n",
        "      qc.ry(params[p], i) \n",
        "      p += 1\n",
        "    for i in range(1, n - 1):\n",
        "      qc.x(i)\n",
        "      \n",
        "  return qc"
      ]
    },
    {
      "cell_type": "markdown",
      "metadata": {},
      "source": [
        "#####  Ansatzes From \"Expressibility and Entangling Capability of Parametrized Quantum Circuits\""
      ]
    },
    {
      "cell_type": "code",
      "execution_count": null,
      "metadata": {},
      "outputs": [],
      "source": [
        "def NewCirc1(params):\n",
        "    assert len(params) == pcount[Ansatz.NewCirc1] \n",
        "    qc = QuantumCircuit(n, n)\n",
        "    p = 0\n",
        "    for _ in range(ITERS):\n",
        "        for i in range(n):\n",
        "            qc.rx(params[p], i)\n",
        "            p += 1\n",
        "            qc.rz(params[p], i)\n",
        "            p += 1\n",
        "    return qc"
      ]
    },
    {
      "cell_type": "code",
      "execution_count": null,
      "metadata": {},
      "outputs": [],
      "source": [
        "def NewCirc2(params):\n",
        "    assert len(params) == pcount[Ansatz.NewCirc2] \n",
        "    qc = QuantumCircuit(n, n)\n",
        "    p = 0\n",
        "    for _ in range(ITERS):\n",
        "        for i in range(n):\n",
        "            qc.rx(params[p], i)\n",
        "            p += 1\n",
        "            qc.rz(params[p], i)\n",
        "            p += 1\n",
        "            if i != 0:\n",
        "                qc.cx(i, i - 1)\n",
        "    return qc"
      ]
    },
    {
      "cell_type": "code",
      "execution_count": null,
      "metadata": {},
      "outputs": [],
      "source": [
        "def NewCirc3(params):\n",
        "    assert len(params) == pcount[Ansatz.NewCirc3] \n",
        "    qc = QuantumCircuit(n, n)\n",
        "    p = 0\n",
        "    for _ in range(ITERS):\n",
        "        for i in range(n):\n",
        "            qc.rx(params[p], i)\n",
        "            p += 1\n",
        "            qc.rz(params[p], i)\n",
        "            p += 1\n",
        "            if i != 0:\n",
        "                qc.crz(params[p], i, i - 1)\n",
        "                p += 1\n",
        "    return qc"
      ]
    },
    {
      "cell_type": "code",
      "execution_count": null,
      "metadata": {},
      "outputs": [],
      "source": [
        "def NewCirc4(params):\n",
        "    assert len(params) == pcount[Ansatz.NewCirc4] \n",
        "    qc = QuantumCircuit(n, n)\n",
        "    p = 0\n",
        "    for _ in range(ITERS):\n",
        "        for i in range(n):\n",
        "            qc.rx(params[p], i)\n",
        "            p += 1\n",
        "            qc.rz(params[p], i)\n",
        "            p += 1\n",
        "            if i != 0:\n",
        "                qc.crx(params[p], i, i - 1)\n",
        "                p += 1\n",
        "    return qc"
      ]
    },
    {
      "cell_type": "code",
      "execution_count": null,
      "metadata": {},
      "outputs": [],
      "source": [
        "def NewCirc5(params):\n",
        "    assert len(params) == pcount[Ansatz.NewCirc5] \n",
        "    qc = QuantumCircuit(n, n)\n",
        "    p = 0\n",
        "    for _ in range(ITERS):\n",
        "        for i in range(n - 1, -1, -1):\n",
        "            qc.rx(params[p], i)\n",
        "            p += 1\n",
        "            qc.rz(params[p], i)\n",
        "            p += 1\n",
        "            for j in range(n - 1, -1, -1):\n",
        "                if i != j:\n",
        "                    qc.crz(params[p], i, j)\n",
        "                    p += 1\n",
        "    return qc"
      ]
    },
    {
      "cell_type": "code",
      "execution_count": null,
      "metadata": {},
      "outputs": [],
      "source": [
        "def NewCirc6(params):\n",
        "    assert len(params) == pcount[Ansatz.NewCirc6] \n",
        "    qc = QuantumCircuit(n, n)\n",
        "    p = 0\n",
        "    for _ in range(ITERS):\n",
        "        for i in range(n - 1, -1, -1):\n",
        "            qc.rx(params[p], i)\n",
        "            p += 1\n",
        "            qc.rz(params[p], i)\n",
        "            p += 1\n",
        "            for j in range(n - 1, -1, -1):\n",
        "                if i != j:\n",
        "                    qc.crx(params[p], i, j)\n",
        "                    p += 1\n",
        "    return qc"
      ]
    },
    {
      "cell_type": "code",
      "execution_count": null,
      "metadata": {},
      "outputs": [],
      "source": [
        "def NewCirc7(params):\n",
        "    assert len(params) == pcount[Ansatz.NewCirc7] \n",
        "    qc = QuantumCircuit(n, n)\n",
        "    p = 0\n",
        "    for _ in range(ITERS):\n",
        "        for i in range(n):\n",
        "            qc.rx(params[p], i)\n",
        "            p += 1\n",
        "            qc.rz(params[p], i)\n",
        "            p += 1\n",
        "        for j in range(1, n, 2):\n",
        "            qc.crz(params[p], j, j - 1)\n",
        "            p += 1\n",
        "        for i in range(n):\n",
        "            qc.rx(params[p], i)\n",
        "            p += 1\n",
        "            qc.rz(params[p], i)\n",
        "            p += 1\n",
        "        for j in range(2, n, 2):\n",
        "            qc.crz(params[p], j, j - 1)\n",
        "            p += 1\n",
        "    return qc"
      ]
    },
    {
      "cell_type": "code",
      "execution_count": null,
      "metadata": {},
      "outputs": [],
      "source": [
        "def NewCirc8(params):\n",
        "    assert len(params) == pcount[Ansatz.NewCirc8] \n",
        "    qc = QuantumCircuit(n, n)\n",
        "    p = 0\n",
        "    for _ in range(ITERS):\n",
        "        for i in range(n):\n",
        "            qc.rx(params[p], i)\n",
        "            p += 1\n",
        "            qc.rz(params[p], i)\n",
        "            p += 1\n",
        "        for j in range(1, n, 2):\n",
        "            qc.crx(params[p], j, j - 1)\n",
        "            p += 1\n",
        "        for i in range(n):\n",
        "            qc.rx(params[p], i)\n",
        "            p += 1\n",
        "            qc.rz(params[p], i)\n",
        "            p += 1\n",
        "        for j in range(2, n, 2):\n",
        "            qc.crx(params[p], j, j - 1)\n",
        "            p += 1\n",
        "    return qc"
      ]
    },
    {
      "cell_type": "code",
      "execution_count": null,
      "metadata": {},
      "outputs": [],
      "source": [
        "def NewCirc9(params):\n",
        "    assert len(params) == pcount[Ansatz.NewCirc9] \n",
        "    qc = QuantumCircuit(n, n)\n",
        "    p = 0\n",
        "    for _ in range(ITERS):\n",
        "        for i in range(n - 1, -1, -1):\n",
        "            qc.h(i)\n",
        "            if i != 0:\n",
        "                qc.cz(i, i - 1)\n",
        "\n",
        "            qc.rx(params[p], i)\n",
        "            p += 1\n",
        "    return qc"
      ]
    },
    {
      "cell_type": "code",
      "execution_count": null,
      "metadata": {},
      "outputs": [],
      "source": [
        "def NewCirc10(params):\n",
        "    assert len(params) == pcount[Ansatz.NewCirc10] \n",
        "    qc = QuantumCircuit(n, n)\n",
        "    p = 0\n",
        "    for j in range(n):\n",
        "        qc.ry(params[p], j)\n",
        "        p += 1\n",
        "\n",
        "    for _ in range(ITERS):\n",
        "        for i in range(n - 1, -1, -1):\n",
        "            if i != 0:\n",
        "                qc.cz(i, i - 1)\n",
        "            else:\n",
        "                qc.cz(i, n - 1)\n",
        "            qc.rx(params[p], i)\n",
        "            p += 1\n",
        "    return qc"
      ]
    },
    {
      "cell_type": "code",
      "execution_count": null,
      "metadata": {},
      "outputs": [],
      "source": [
        "def NewCirc11(params): #ASSUME n = 4\n",
        "    assert len(params) == pcount[Ansatz.NewCirc11] \n",
        "    qc = QuantumCircuit(4, 4)\n",
        "    p = 0\n",
        "    for _ in range(ITERS):\n",
        "        for i in range(4):\n",
        "            qc.ry(params[p], i)\n",
        "            p += 1\n",
        "            qc.rz(params[p], i)\n",
        "            p += 1\n",
        "        qc.cx(1, 0)\n",
        "        qc.cx(3, 2)\n",
        "        qc.ry(params[p], 1)\n",
        "        p += 1\n",
        "        qc.ry(params[p], 2)\n",
        "        p += 1\n",
        "        qc.rz(params[p], 1)\n",
        "        p += 1\n",
        "        qc.rz(params[p], 2)\n",
        "        p += 1\n",
        "        qc.cx(2, 1)\n",
        "            \n",
        "    return qc"
      ]
    },
    {
      "cell_type": "code",
      "execution_count": null,
      "metadata": {},
      "outputs": [],
      "source": [
        "def NewCirc12(params): #ASSUME n = 4\n",
        "    assert len(params) == pcount[Ansatz.NewCirc12] \n",
        "    qc = QuantumCircuit(4, 4)\n",
        "    p = 0\n",
        "    for _ in range(ITERS):\n",
        "        for i in range(4):\n",
        "            qc.ry(params[p], i)\n",
        "            p += 1\n",
        "            qc.rz(params[p], i)\n",
        "            p += 1\n",
        "        qc.cz(0, 1)\n",
        "        qc.cz(2, 3)\n",
        "        qc.ry(params[p], 1)\n",
        "        p += 1\n",
        "        qc.ry(params[p], 2)\n",
        "        p += 1\n",
        "        qc.rz(params[p], 1)\n",
        "        p += 1\n",
        "        qc.rz(params[p], 2)\n",
        "        p += 1\n",
        "        qc.cz(1, 2)\n",
        "            \n",
        "    return qc"
      ]
    },
    {
      "cell_type": "code",
      "execution_count": null,
      "metadata": {},
      "outputs": [],
      "source": [
        "def NewCirc13(params):\n",
        "    assert len(params) == pcount[Ansatz.NewCirc13] \n",
        "    qc = QuantumCircuit(n, n)\n",
        "    p = 0\n",
        "    for _ in range(ITERS):\n",
        "        for i in range(n - 1, -1 , -1):\n",
        "            qc.ry(params[p], i)\n",
        "            p += 1\n",
        "            if i != n - 1:\n",
        "                qc.crz(params[p], i, i + 1)\n",
        "                p += 1\n",
        "            else:\n",
        "                qc.crz(params[p], i, 0)\n",
        "                p += 1\n",
        "            qc.ry(params[p], i)\n",
        "            p += 1\n",
        "            if i != 0:\n",
        "                qc.crz(params[p], i, i - 1)\n",
        "                p += 1\n",
        "            else:\n",
        "                qc.crz(params[p], i, n - 1)\n",
        "                p += 1\n",
        "    return qc"
      ]
    },
    {
      "cell_type": "code",
      "execution_count": null,
      "metadata": {},
      "outputs": [],
      "source": [
        "def NewCirc14(params):\n",
        "    assert len(params) == pcount[Ansatz.NewCirc14] \n",
        "    qc = QuantumCircuit(n, n)\n",
        "    p = 0\n",
        "    for _ in range(ITERS):\n",
        "        for i in range(n - 1, -1 , -1):\n",
        "            qc.ry(params[p], i)\n",
        "            p += 1\n",
        "            if i != n - 1:\n",
        "                qc.crx(params[p], i, i + 1)\n",
        "                p += 1\n",
        "            else:\n",
        "                qc.crx(params[p], i, 0)\n",
        "                p += 1\n",
        "            qc.ry(params[p], i)\n",
        "            p += 1\n",
        "            if i != 0:\n",
        "                qc.crx(params[p], i, i - 1)\n",
        "                p += 1\n",
        "            else:\n",
        "                qc.crx(params[p], i, n - 1)\n",
        "                p += 1\n",
        "    return qc"
      ]
    },
    {
      "cell_type": "code",
      "execution_count": null,
      "metadata": {},
      "outputs": [],
      "source": [
        "def NewCirc15(params):\n",
        "    assert len(params) == pcount[Ansatz.NewCirc15] \n",
        "    qc = QuantumCircuit(n, n)\n",
        "    p = 0\n",
        "    for _ in range(ITERS):\n",
        "        for i in range(n - 1, -1 , -1):\n",
        "            qc.ry(params[p], i)\n",
        "            p += 1\n",
        "            if i != n - 1:\n",
        "                qc.cx(i, i + 1)\n",
        "            else:\n",
        "                qc.cx(i, 0)\n",
        "            qc.ry(params[p], i)\n",
        "            p += 1\n",
        "            if i != 0:\n",
        "                qc.cx(i, i - 1)\n",
        "            else:\n",
        "                qc.cx(i, n - 1)\n",
        "    return qc"
      ]
    },
    {
      "cell_type": "code",
      "execution_count": null,
      "metadata": {},
      "outputs": [],
      "source": [
        "def NewCirc16(params):\n",
        "    assert len(params) == pcount[Ansatz.NewCirc16] \n",
        "    return NewCirc3(params)"
      ]
    },
    {
      "cell_type": "code",
      "execution_count": null,
      "metadata": {},
      "outputs": [],
      "source": [
        "def NewCirc17(params):\n",
        "    assert len(params) == pcount[Ansatz.NewCirc17] \n",
        "    return NewCirc4(params)"
      ]
    },
    {
      "cell_type": "code",
      "execution_count": null,
      "metadata": {},
      "outputs": [],
      "source": [
        "def NewCirc18(params):\n",
        "    assert len(params) == pcount[Ansatz.NewCirc18] \n",
        "    qc = QuantumCircuit(n, n)\n",
        "    p = 0\n",
        "    for _ in range(ITERS):\n",
        "        for i in range(n - 1, -1 , -1):\n",
        "            qc.rx(params[p], i)\n",
        "            p += 1\n",
        "            qc.rz(params[p], i)\n",
        "            p += 1\n",
        "            if i != n - 1:\n",
        "                qc.crz(params[p], i, i + 1)\n",
        "                p += 1\n",
        "            else:\n",
        "                qc.crz(params[p], i, 0)\n",
        "                p += 1\n",
        "    return qc"
      ]
    },
    {
      "cell_type": "code",
      "execution_count": null,
      "metadata": {},
      "outputs": [],
      "source": [
        "def NewCirc19(params):\n",
        "    assert len(params) == pcount[Ansatz.NewCirc19] \n",
        "    qc = QuantumCircuit(n, n)\n",
        "    p = 0\n",
        "    for _ in range(ITERS):\n",
        "        for i in range(n - 1, -1 , -1):\n",
        "            qc.rx(params[p], i)\n",
        "            p += 1\n",
        "            qc.rz(params[p], i)\n",
        "            p += 1\n",
        "            if i != n - 1:\n",
        "                qc.crx(params[p], i, i + 1)\n",
        "                p += 1\n",
        "            else:\n",
        "                qc.crx(params[p], i, 0)\n",
        "                p += 1\n",
        "    return qc"
      ]
    },
    {
      "cell_type": "markdown",
      "metadata": {},
      "source": [
        "##### Converts Ansatz to Function"
      ]
    },
    {
      "cell_type": "code",
      "execution_count": null,
      "metadata": {},
      "outputs": [],
      "source": [
        "ansatz_to_fn = {Ansatz.Hardware_Efficient_Ansatz: Hardware_Efficient_Ansatz, \n",
        "        Ansatz.CNOT_Ansatz: CNOT_Ansatz,\n",
        "        Ansatz.Adiabatic_Ansatz: Adiabatic_Ansatz,\n",
        "        Ansatz.NewCirc1: NewCirc1,\n",
        "        Ansatz.NewCirc2: NewCirc2,\n",
        "        Ansatz.NewCirc3: NewCirc3,\n",
        "        Ansatz.NewCirc4: NewCirc4,\n",
        "        Ansatz.NewCirc5: NewCirc5,\n",
        "        Ansatz.NewCirc6: NewCirc6,\n",
        "        Ansatz.NewCirc7: NewCirc7,\n",
        "        Ansatz.NewCirc8: NewCirc8,\n",
        "        Ansatz.NewCirc9: NewCirc9,\n",
        "        Ansatz.NewCirc10: NewCirc10,\n",
        "        Ansatz.NewCirc11: NewCirc11, # only for 4 qubit case \n",
        "        Ansatz.NewCirc12: NewCirc12, # only for 4 qubit case \n",
        "        Ansatz.NewCirc13: NewCirc13,\n",
        "        Ansatz.NewCirc14: NewCirc14,\n",
        "        Ansatz.NewCirc15: NewCirc15,\n",
        "        Ansatz.NewCirc16: NewCirc16,\n",
        "        Ansatz.NewCirc17: NewCirc17,\n",
        "        Ansatz.NewCirc18: NewCirc18,\n",
        "        Ansatz.NewCirc19: NewCirc19,\n",
        "        }"
      ]
    },
    {
      "cell_type": "markdown",
      "metadata": {
        "id": "UEFrmvmJLYS1"
      },
      "source": [
        "#### 4. VQE + SSVQE: DO NOT MODIFY."
      ]
    },
    {
      "cell_type": "code",
      "execution_count": null,
      "metadata": {
        "id": "5nqi67ZwLef1"
      },
      "outputs": [],
      "source": [
        "decomposition_terms = decompose(H) # get decomposition terms\n",
        "\n",
        "def all_ansatzes(params):\n",
        "  ansatzes = dict()\n",
        "  for tproducts, coeff in decomposition_terms.items():\n",
        "    if np.abs(coeff) != 0:\n",
        "      if tproducts.count(\"id\") == n:\n",
        "        qc = QuantumCircuit(1, 1) # circuit always measuring 1\n",
        "        qc.measure(0, 0)\n",
        "        ansatzes[tproducts] = (coeff, qc)\n",
        "      else:\n",
        "        circuit = ansatz_to_fn[ANSATZ](params)\n",
        "        for i in range(n):\n",
        "          pauli = tproducts[i]\n",
        "          if pauli == \"x\":\n",
        "            circuit.h(i)\n",
        "          elif pauli == \"y\":\n",
        "            circuit.sdg(i)\n",
        "            circuit.h(i)\n",
        "          if pauli != \"id\": # don't need to measure identity observables\n",
        "            circuit.measure(i, i)\n",
        "        ansatzes[tproducts] = (coeff, circuit)\n",
        "    else:\n",
        "      logging.error('Should not be attempting to compute ansatz when coefficient is zero.')\n",
        "  return ansatzes"
      ]
    },
    {
      "cell_type": "markdown",
      "metadata": {
        "id": "xoQj2_z3OCBO"
      },
      "source": [
        "Now we have all the ansatzes to do VQE and their corresponding coefficients. NOTE: This VQE is  SSVQE with K=1, so we never use this function (only for me to practice). :"
      ]
    },
    {
      "cell_type": "code",
      "execution_count": null,
      "metadata": {
        "id": "7wlrQxdQOxg8"
      },
      "outputs": [],
      "source": [
        "\n",
        "# backend = Aer.get_backend(\"statevector_simulator\")\n",
        "\n",
        "\n",
        "def VQE(parameters):\n",
        "  ansatzes = all_ansatzes(parameters)\n",
        "  guess = 0\n",
        "  for ansatz in ansatzes:\n",
        "    t_qc = transpile(ansatzes[ansatz][1], backend)\n",
        "    qobj = assemble(t_qc, shots=SHOTS)     \n",
        "    result = backend.run(qobj).result()\n",
        "    output = result.get_counts(ansatzes[ansatz][1])\n",
        "    # calculate averaged measurement result (+1 iff even number of 1's, otw -1)\n",
        "    avg_measurement = 0\n",
        "    for res in output:\n",
        "        if str(res).count(\"1\") % 2 == 0:\n",
        "          avg_measurement += output[res]\n",
        "        else:\n",
        "          avg_measurement -= output[res]\n",
        "    guess += avg_measurement * ansatzes[ansatz][0]\n",
        "  \n",
        "  guess /= SHOTS\n",
        "    \n",
        "  return guess"
      ]
    },
    {
      "cell_type": "code",
      "execution_count": null,
      "metadata": {
        "id": "wJfVsZW2MBtJ"
      },
      "outputs": [],
      "source": [
        "backend = Aer.get_backend(\"qasm_simulator\")\n",
        "\n",
        "def SSVQE(parameters):\n",
        "  total_cost = 0\n",
        "  for i in range(K):\n",
        "    weight = get_weights(i) #  weight function \n",
        "\n",
        "    ############################################################################\n",
        "\n",
        "    ## ANALYTIC APPROACH: if we're gonna simulate, instead lets just calculate ev directly ##\n",
        "    # circuit = ansatz_to_fn[ANSATZ](parameters)\n",
        "    # result = np.array(execute(circuit, backend).result().get_statevector())\n",
        "    # resultH = np.conj(result).T\n",
        "    # ev = resultH @ H @ result\n",
        "    # ev = np.real(ev)\n",
        "        \n",
        "    # total_cost += ev * weight \n",
        "\n",
        "    ############################################################################\n",
        "\n",
        "    ## EXPERIMENTAL APPROACH: Dd decomposition + minimize each basis state ##\n",
        "\n",
        "    ansatzes = all_ansatzes(parameters)\n",
        "\n",
        "    intermediate_cost = 0\n",
        "\n",
        "    for ansatz in ansatzes: \n",
        "      if ansatzes[ansatz][1].depth() > 1: # hacky way of checking it's not just identity ansatz, a special case\n",
        "        circuit = k_state(i).compose(ansatzes[ansatz][1])\n",
        "      else:\n",
        "        # quick and dirty +1 measurement on all id case\n",
        "        circuit = QuantumCircuit(1)\n",
        "        circuit.measure_all()\n",
        "   \n",
        "      result = execute(circuit, backend, shots=SHOTS).result()\n",
        "      output = result.get_counts(circuit)\n",
        "      # calculate averaged measurement result (+1 iff even number of 1's, otw -1)\n",
        "      avg_measurement = 0\n",
        "      for res in output:\n",
        "          if str(res).count(\"1\") % 2 == 0:\n",
        "            avg_measurement += output[res]\n",
        "          else:\n",
        "            avg_measurement -= output[res]\n",
        "      avg_measurement /= SHOTS\n",
        "      \n",
        "      if np.abs(avg_measurement) > 1:\n",
        "        logging.error(f\"Bad measurement: {avg_measurement}\")\n",
        "\n",
        "      intermediate_cost += (avg_measurement * ansatzes[ansatz][0])\n",
        "\n",
        "    # print(f\"E({i}):\", np.round(intermediate_cost, 3), end= \" \") # relevant for SSVQE\n",
        "    total_cost += intermediate_cost * weight\n",
        "\n",
        "  return total_cost\n",
        "\n",
        "# return circuit outputting |k>.\n",
        "def k_state(k):\n",
        "  qc = QuantumCircuit(n, n)\n",
        "  for i in range(n):\n",
        "    if (k >> i) % 2 == 1:\n",
        "      qc.x(i)\n",
        "  return qc "
      ]
    },
    {
      "cell_type": "markdown",
      "metadata": {
        "id": "MqWN3mNscn9b"
      },
      "source": [
        "#### 5. Run the SPSA Optimization Procedure."
      ]
    },
    {
      "cell_type": "code",
      "execution_count": null,
      "metadata": {
        "id": "pnheUGpUdLbo"
      },
      "outputs": [],
      "source": [
        "from qiskit.algorithms.optimizers import SPSA\n",
        "\n",
        "def SPSA_optimize(ansatz, iterations):\n",
        "  global ANSATZ\n",
        "  ANSATZ = ansatz\n",
        "  info = [] \n",
        "  iter = 0\n",
        "  def get_SPSA_info(a1,a2,a3,a4,a5):\n",
        "    nonlocal iter \n",
        "    iter += 1\n",
        "\n",
        "    # ADD COST\n",
        "    info.append((iter, a2, a3))\n",
        "    if iter % 10 == 0:\n",
        "      logging.log(25, f\"Iter:{iter}, Cost:{a3}\")\n",
        "\n",
        "  logging.log(25, f\"Starting optimization with Ansatz={ANSATZ}\")\n",
        "  optimizer = SPSA(maxiter=iterations, blocking=True, allowed_increase=100, callback=get_SPSA_info)\n",
        "  optimizer.optimize(pcount[ANSATZ], SSVQE, initial_point=PARAMS[:pcount[ANSATZ]])\n",
        "  return info"
      ]
    },
    {
      "cell_type": "markdown",
      "metadata": {
        "id": "s93sC6XKfUYc"
      },
      "source": [
        "#### 6. Analysis: ADD OR MODIFY"
      ]
    },
    {
      "cell_type": "markdown",
      "metadata": {},
      "source": [
        "##### Analysis for VQE (not SSVQE)"
      ]
    },
    {
      "cell_type": "code",
      "execution_count": null,
      "metadata": {
        "colab": {
          "base_uri": "https://localhost:8080/"
        },
        "id": "C8wWve7SfZ0i",
        "outputId": "5a282d10-b33c-41bd-e909-a9950161a4c6"
      },
      "outputs": [],
      "source": [
        "from os.path import exists\n",
        "from datetime import datetime\n",
        "\n",
        "e0 = np.min(np.linalg.eigvals(H)) # lowest eigenvalue for error checking\n",
        "\n",
        "df = pd.DataFrame(columns=[\"Date/Time\", \"Hamiltonian\", \"Weight Name\", \"n qubits\", \"Ansatz Name\", \"Ansatz Id\", \"Ansatz Layers\", \n",
        "\"Optimizer\", \"Optimizer Iterations\", \"Theoretical e0\", \"Iters for e0 5-approx\", \"Iters for e0 2-approx\", \"Iters for e0 1.1-approx\", \"Iters for e0 1.01-approx\",\n",
        "\"Energies for Lowest Cost Iteration\", \"Data for Lowest Cost Iteration\", \"Simulation Data\"])\n",
        "\n",
        "if exists(\"SSVQE_results.df\"):\n",
        "    df = pd.read_pickle(\"SSVQE_results.df\")\n",
        "\n",
        "for a in ANSATZES:\n",
        "\n",
        "    if n == 4 or a not in [13, 14]: # these two ansatzes are 4-qubit specific\n",
        "\n",
        "        results = SPSA_optimize(Ansatz(a), iterations)\n",
        "        best = sorted(results, key=lambda x: x[2])[0] # lowest cost function\n",
        "        a0 = dict()\n",
        "        for i in range(K):\n",
        "            circuit = k_state(i).compose(ansatz_to_fn[ANSATZ](best[1]))\n",
        "            result = np.array(execute(circuit, Aer.get_backend(\"statevector_simulator\")).result().get_statevector())\n",
        "            resultH = np.conj(result).T\n",
        "            a0[i] = np.real(resultH @ H @ result)\n",
        "\n",
        "        a5, a2, a1d1, a1d01 = None, None, None, None\n",
        "        for i in range(iterations):\n",
        "\n",
        "            # COMPUTE THE EV(s)\n",
        "            evs = dict()\n",
        "            for j in range(K):\n",
        "                circuit = k_state(j).compose(ansatz_to_fn[ANSATZ](results[i][1]))\n",
        "                result = np.array(execute(circuit, Aer.get_backend(\"statevector_simulator\")).result().get_statevector())\n",
        "                resultH = np.conj(result).T\n",
        "                evs[j] = np.real(resultH @ H @ result)\n",
        "\n",
        "            # EV CAN'T BE TOO LOW \n",
        "            if min(evs.values()) < e0:\n",
        "                logging.critical(f\"FATAL: measurement outcome of {min(evs.values())} during iteration {i} violates variational principle, i.e. lowest possible measurement={e0}.\")\n",
        "\n",
        "            # GROUND STATE APPROX FACTORS\n",
        "            factor = evs[0] / e0\n",
        "            if not a5 and factor <= 5:\n",
        "                a5 = i\n",
        "            if not a2 and factor <= 2:\n",
        "                a2 = i\n",
        "            if not a1d1 and factor <= 1.1:\n",
        "                a1d1 = i\n",
        "            if not a1d01 and factor <= 1.01:\n",
        "                a1d01 = i\n",
        "                    \n",
        "        df.loc[len(df.index)] = [datetime.now(), \"1D Infinite Well\", weight_name, n, Ansatz(a).name, a, ITERS, \"SPSA\", iterations, e0, a5, a2, a1d1, a1d01, a0, best, results]\n",
        "\n",
        "    df.to_pickle(\"SSVQE_results.df\") # save at intermediate steps so we can kill simulation even when only partially done \n"
      ]
    },
    {
      "cell_type": "markdown",
      "metadata": {},
      "source": [
        "##### More Analysis (TODO)"
      ]
    },
    {
      "cell_type": "markdown",
      "metadata": {},
      "source": []
    }
  ],
  "metadata": {
    "colab": {
      "collapsed_sections": [],
      "name": "VQE_Hamiltonian.ipynb",
      "provenance": []
    },
    "interpreter": {
      "hash": "aee8b7b246df8f9039afb4144a1f6fd8d2ca17a180786b69acc140d282b71a49"
    },
    "kernelspec": {
      "display_name": "Python 3.8.6 64-bit",
      "language": "python",
      "name": "python3"
    },
    "language_info": {
      "codemirror_mode": {
        "name": "ipython",
        "version": 3
      },
      "file_extension": ".py",
      "mimetype": "text/x-python",
      "name": "python",
      "nbconvert_exporter": "python",
      "pygments_lexer": "ipython3",
      "version": "3.8.6"
    },
    "vscode": {
      "interpreter": {
        "hash": "0afc27533c87ca2e6ce5ae5b782b251061ee478274db3b1814284dc6dba9e6a7"
      }
    }
  },
  "nbformat": 4,
  "nbformat_minor": 0
}
