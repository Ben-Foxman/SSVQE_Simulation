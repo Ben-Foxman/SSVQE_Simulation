{
  "cells": [
    {
      "cell_type": "markdown",
      "metadata": {
        "id": "JFeVXW4Y9jB5"
      },
      "source": [
        "# Finding energy states of the Discretized 1D Particle in a Box using SSVQE\n",
        "\n",
        "#### In this Jupyter notebook, we use the SSVQE algorithm to find eigenenergies/eigenstates of a particle in an infinite potential well. \n",
        "##### Credit to Yu Jun Shen (www.github.com/GryphonTorch) for initial inspiration."
      ]
    },
    {
      "cell_type": "markdown",
      "metadata": {
        "id": "pAy-2qjhMfpa"
      },
      "source": [
        "#### 0. Imports + Logger Setup"
      ]
    },
    {
      "cell_type": "code",
      "execution_count": 1,
      "metadata": {
        "id": "5Jy4WYkjAhpv"
      },
      "outputs": [],
      "source": [
        "from qiskit import * \n",
        "import numpy as np\n",
        "import pandas as pd\n",
        "import itertools\n",
        "import functools\n",
        "from enum import Enum\n",
        "import logging \n",
        "\n",
        "open('SSVQE.log', 'w').close()\n",
        "log1 = logging.getLogger('')\n",
        "log1.addHandler(logging.FileHandler('SSVQE.log'))\n",
        "log1.setLevel(25) # above DEBUG"
      ]
    },
    {
      "cell_type": "markdown",
      "metadata": {
        "id": "0oRKDZZvGW1n"
      },
      "source": [
        "#### 1. Global Variables "
      ]
    },
    {
      "cell_type": "markdown",
      "metadata": {
        "id": "vf8QVaQYNQXr"
      },
      "source": [
        "##### Hyperparameters: MODIFY THESE."
      ]
    },
    {
      "cell_type": "code",
      "execution_count": 2,
      "metadata": {
        "id": "NQeewqkUAkCq"
      },
      "outputs": [],
      "source": [
        "''' The number of qubits, effectively how discretized the well is. Must be >= 2 since ansatzes have 2-qubit gates. '''\n",
        "n = 4\n",
        "\n",
        "''' The chosen ansatz ids (ids are at the Start of Section 3).'''\n",
        "ANSATZES = [1]\n",
        "\n",
        "''' The number of iterations of the ansatz in the (SS)VQE circuit. '''\n",
        "ITERS = 1\n",
        "\n",
        "''' The number of measurements to take. More measurements = Slower, More Accurate for Cost fn -> ev map.'''\n",
        "SHOTS = 1024\n",
        "\n",
        "''' Simultaneously find 0 through k-1 th energy states using SSVQE. If k=1, SSVQE becomes just VQE.'''\n",
        "K = 1\n",
        "\n",
        "'''Initial Parameters of the Ansatzes. '''\n",
        "PARAMS = np.random.uniform(0, np.pi, size=10000)\n",
        "\n",
        "'''Optimizer Iterations. '''\n",
        "iterations = 10\n",
        "\n",
        "'''The Hamiltonian, a Hermitian Operator acting on N=2^n dimensional Complex Hilbert Space.\n",
        "This will be initialized for the 1D particle in a box case in (2). Feel free to define your own \n",
        "Hamiltonian as well. '''\n",
        "H = np.zeros((2 ** n, 2 ** n))\n",
        "\n",
        "''' Weight function for SSVQE - any monotonically decreasing, non-negative function of i (i < K) works.'''\n",
        "weight_name = \"SSVQE_linear_1_qubit\"\n",
        "def get_weights(i):\n",
        "  return i\n",
        " #  return (K ** .75) - (i ** .75)"
      ]
    },
    {
      "cell_type": "markdown",
      "metadata": {
        "id": "j6v-3XojGZsh"
      },
      "source": [
        "##### Hyperparameters: DO NOT MODIFY."
      ]
    },
    {
      "cell_type": "code",
      "execution_count": 3,
      "metadata": {
        "id": "CHIdq1VUGcvj"
      },
      "outputs": [],
      "source": [
        "N = 2 ** n # number of states\n",
        "paulis = {\"x\": np.array([[0, 1],  [ 1, 0]], dtype=np.complex128),\n",
        "    \"y\": np.array([[0, -1j],[1j, 0]], dtype=np.complex128),\n",
        "    \"z\": np.array([[1, 0],  [0, -1]], dtype=np.complex128),\n",
        "    \"id\": np.array([[1, 0],  [ 0, 1]], dtype=np.complex128),}"
      ]
    },
    {
      "cell_type": "markdown",
      "metadata": {
        "id": "bLFQaISFERi1"
      },
      "source": [
        "##### 2. Hamiltonian of the Discretized 1D Well. Feel free to change for your Hamiltonian of Interest."
      ]
    },
    {
      "cell_type": "markdown",
      "metadata": {
        "id": "Dxy2DqnLN8xX"
      },
      "source": [
        "##### Get the Hamiltonian"
      ]
    },
    {
      "cell_type": "code",
      "execution_count": 4,
      "metadata": {
        "id": "DAQbOFPhAqfd"
      },
      "outputs": [],
      "source": [
        "dx = 1.0 / float(N - 1)   \n",
        "a = 1 / float(2 * dx * dx)\n",
        "H = np.zeros((N, N))  + 2 * a * np.identity(N)\n",
        "for i in range(N - 1):\n",
        "  H[i, i + 1] -= a\n",
        "for i in range(1, N):\n",
        "  H[i, i - 1] -= a"
      ]
    },
    {
      "cell_type": "markdown",
      "metadata": {
        "id": "xC0l0fl0HkZn"
      },
      "source": [
        "##### Hamiltonian Decomposition Helper Functions"
      ]
    },
    {
      "cell_type": "code",
      "execution_count": 5,
      "metadata": {
        "id": "HbPnAmNpAkJ0"
      },
      "outputs": [],
      "source": [
        "def HS(M1, M2):\n",
        "    \"\"\"Hilbert-Schmidt-Product of two matrices M1, M2\"\"\"\n",
        "    return (np.dot(M1.conjugate().transpose(), M2)).trace()\n",
        "\n",
        "def decompose(H):\n",
        "    \"\"\"Decompose Hamiltonian H into Pauli matrices\"\"\"\n",
        "    from numpy import kron\n",
        "    decomposition = dict()\n",
        "    for pauli_string in itertools.product(paulis.items(), repeat=n):\n",
        "      factor = tuple([x[0] for x in pauli_string])\n",
        "      coefficient = np.real(1/N * HS(functools.reduce(lambda x, y: np.kron(x, y), [x[1] for x in pauli_string]), H))\n",
        "      if np.abs(coefficient) > 0:\n",
        "        decomposition[factor] = coefficient\n",
        "    return decomposition"
      ]
    },
    {
      "cell_type": "markdown",
      "metadata": {
        "id": "4Rc3Bgr8HoFS"
      },
      "source": [
        "#### 3. Ansatzes: CAN ADD OR MODIFY."
      ]
    },
    {
      "cell_type": "markdown",
      "metadata": {
        "id": "glyG2hX_uhVm"
      },
      "source": [
        "##### Ansatz Information"
      ]
    },
    {
      "cell_type": "code",
      "execution_count": 6,
      "metadata": {
        "id": "Ti6DWBzUuhVm"
      },
      "outputs": [],
      "source": [
        "class Ansatz(Enum):\n",
        "  Hardware_Efficient_Ansatz = 0\n",
        "  CNOT_Ansatz = 1\n",
        "  Adiabatic_Ansatz = 2\n",
        "  NewCirc1 = 3\n",
        "  NewCirc2 = 4\n",
        "  NewCirc3 = 5\n",
        "  NewCirc4 = 6\n",
        "  NewCirc5 = 7\n",
        "  NewCirc6 = 8\n",
        "  NewCirc7 = 9\n",
        "  NewCirc8 = 10\n",
        "  NewCirc9 = 11\n",
        "  NewCirc10 = 12\n",
        "  NewCirc11 = 13\n",
        "  NewCirc12 = 14\n",
        "  NewCirc13 = 15\n",
        "  NewCirc14 = 16\n",
        "  NewCirc15 = 17\n",
        "  NewCirc16 = 18\n",
        "  NewCirc17 = 19\n",
        "  NewCirc18 = 20\n",
        "  NewCirc19 = 21\n",
        "  \n",
        "pcount = { Ansatz.Hardware_Efficient_Ansatz: 2 * n * ITERS,\n",
        "        Ansatz.CNOT_Ansatz: 2 * n * ITERS,\n",
        "        Ansatz.Adiabatic_Ansatz: n * (ITERS + 1),\n",
        "        Ansatz.NewCirc1: 2 * n * ITERS,\n",
        "        Ansatz.NewCirc2: 2 * n * ITERS,\n",
        "        Ansatz.NewCirc3: 2 * n * ITERS + (n - 1) * ITERS,\n",
        "        Ansatz.NewCirc4: 2 * n * ITERS + (n - 1) * ITERS,\n",
        "        Ansatz.NewCirc5: 2 * n * ITERS + (n - 1) * n * ITERS,\n",
        "        Ansatz.NewCirc6: 2 * n * ITERS + (n - 1) * n * ITERS,\n",
        "        Ansatz.NewCirc7: 4 * n * ITERS + (n - 1) * ITERS,\n",
        "        Ansatz.NewCirc8: 4 * n * ITERS + (n - 1) * ITERS,\n",
        "        Ansatz.NewCirc9: n * ITERS,\n",
        "        Ansatz.NewCirc10: n * (ITERS + 1),\n",
        "        Ansatz.NewCirc11: 3 * n * ITERS, # only for 4 qubit case \n",
        "        Ansatz.NewCirc12: 3 * n * ITERS, # only for 4 qubit case \n",
        "        Ansatz.NewCirc13: 4 * n * ITERS,\n",
        "        Ansatz.NewCirc14: 4 * n * ITERS,\n",
        "        Ansatz.NewCirc15: 2 * n * ITERS,\n",
        "        Ansatz.NewCirc16: 2 * n * ITERS + (n - 1) * ITERS,\n",
        "        Ansatz.NewCirc17: 2 * n * ITERS + (n - 1) * ITERS,\n",
        "        Ansatz.NewCirc18: 3 * n * ITERS,\n",
        "        Ansatz.NewCirc19: 3 * n * ITERS,\n",
        "}"
      ]
    },
    {
      "cell_type": "markdown",
      "metadata": {
        "id": "K66HlsViuhVm"
      },
      "source": [
        "##### First Ansatz Choices"
      ]
    },
    {
      "cell_type": "code",
      "execution_count": 7,
      "metadata": {
        "id": "jxDYvmO3AkSb"
      },
      "outputs": [],
      "source": [
        "# Hardware Efficient Ansatz with ITERS iterations of the skeleton\n",
        "def Hardware_Efficient_Ansatz(params):\n",
        "  assert len(params) == pcount[Ansatz.Hardware_Efficient_Ansatz] \n",
        "  qc = QuantumCircuit(n, n)\n",
        "  p = 0 # parameter count\n",
        "  for _ in range(ITERS):\n",
        "    for i in range(n):\n",
        "      qc.ry(params[p], i) \n",
        "      p += 1\n",
        "      qc.rz(params[p], i)\n",
        "      p += 1\n",
        "    for i in range(n - 1):\n",
        "      qc.rzz(np.pi/2, i, i + 1)\n",
        "  return qc"
      ]
    },
    {
      "cell_type": "code",
      "execution_count": 8,
      "metadata": {
        "id": "0iwt3EPr2HjG"
      },
      "outputs": [],
      "source": [
        "def CNOT_Ansatz(params):\n",
        "  assert len(params) == pcount[Ansatz.CNOT_Ansatz]   \n",
        "  qc = QuantumCircuit(n, n)\n",
        "  p = 0 # parameter count\n",
        "  for _ in range(ITERS):\n",
        "    for i in range(n):\n",
        "      qc.ry(params[p], i) \n",
        "      p += 1\n",
        "      qc.rz(params[p], i)\n",
        "      p += 1\n",
        "    for i in range(0, n - 1):\n",
        "      for j in range(i + 1, n):\n",
        "        qc.cx(i, j)\n",
        "  return qc"
      ]
    },
    {
      "cell_type": "code",
      "execution_count": 9,
      "metadata": {
        "id": "KxHrKaakEwF0"
      },
      "outputs": [],
      "source": [
        "def Adiabatic_Ansatz(params):\n",
        "  assert len(params) == pcount[Ansatz.Adiabatic_Ansatz]   \n",
        "  qc = QuantumCircuit(n, n)\n",
        "  p = 0 # parameter count\n",
        "  for i in range(n):\n",
        "    qc.ry(params[p], i)\n",
        "    p += 1\n",
        "  for _ in range(ITERS):\n",
        "    for i in range(0, n - 1):\n",
        "        qc.cx(i, i + 1)\n",
        "    for i in range(n):\n",
        "      qc.ry(params[p], i) \n",
        "      p += 1\n",
        "    for i in range(1, n - 1):\n",
        "      qc.x(i)\n",
        "      \n",
        "  return qc"
      ]
    },
    {
      "cell_type": "markdown",
      "metadata": {
        "id": "gX9yUcNcuhVn"
      },
      "source": [
        "#####  Ansatzes From \"Expressibility and Entangling Capability of Parametrized Quantum Circuits\""
      ]
    },
    {
      "cell_type": "code",
      "execution_count": 10,
      "metadata": {
        "id": "-RsFyujouhVn"
      },
      "outputs": [],
      "source": [
        "def NewCirc1(params):\n",
        "    assert len(params) == pcount[Ansatz.NewCirc1] \n",
        "    qc = QuantumCircuit(n, n)\n",
        "    p = 0\n",
        "    for _ in range(ITERS):\n",
        "        for i in range(n):\n",
        "            qc.rx(params[p], i)\n",
        "            p += 1\n",
        "            qc.rz(params[p], i)\n",
        "            p += 1\n",
        "    return qc"
      ]
    },
    {
      "cell_type": "code",
      "execution_count": 11,
      "metadata": {
        "id": "babddDruuhVn"
      },
      "outputs": [],
      "source": [
        "def NewCirc2(params):\n",
        "    assert len(params) == pcount[Ansatz.NewCirc2] \n",
        "    qc = QuantumCircuit(n, n)\n",
        "    p = 0\n",
        "    for _ in range(ITERS):\n",
        "        for i in range(n):\n",
        "            qc.rx(params[p], i)\n",
        "            p += 1\n",
        "            qc.rz(params[p], i)\n",
        "            p += 1\n",
        "            if i != 0:\n",
        "                qc.cx(i, i - 1)\n",
        "    return qc"
      ]
    },
    {
      "cell_type": "code",
      "execution_count": 12,
      "metadata": {
        "id": "8oSFmznSuhVn"
      },
      "outputs": [],
      "source": [
        "def NewCirc3(params):\n",
        "    assert len(params) == pcount[Ansatz.NewCirc3] \n",
        "    qc = QuantumCircuit(n, n)\n",
        "    p = 0\n",
        "    for _ in range(ITERS):\n",
        "        for i in range(n):\n",
        "            qc.rx(params[p], i)\n",
        "            p += 1\n",
        "            qc.rz(params[p], i)\n",
        "            p += 1\n",
        "            if i != 0:\n",
        "                qc.crz(params[p], i, i - 1)\n",
        "                p += 1\n",
        "    return qc"
      ]
    },
    {
      "cell_type": "code",
      "execution_count": 13,
      "metadata": {
        "id": "thBz0MhPuhVn"
      },
      "outputs": [],
      "source": [
        "def NewCirc4(params):\n",
        "    assert len(params) == pcount[Ansatz.NewCirc4] \n",
        "    qc = QuantumCircuit(n, n)\n",
        "    p = 0\n",
        "    for _ in range(ITERS):\n",
        "        for i in range(n):\n",
        "            qc.rx(params[p], i)\n",
        "            p += 1\n",
        "            qc.rz(params[p], i)\n",
        "            p += 1\n",
        "            if i != 0:\n",
        "                qc.crx(params[p], i, i - 1)\n",
        "                p += 1\n",
        "    return qc"
      ]
    },
    {
      "cell_type": "code",
      "execution_count": 14,
      "metadata": {
        "id": "JBopqk1OuhVn"
      },
      "outputs": [],
      "source": [
        "def NewCirc5(params):\n",
        "    assert len(params) == pcount[Ansatz.NewCirc5] \n",
        "    qc = QuantumCircuit(n, n)\n",
        "    p = 0\n",
        "    for _ in range(ITERS):\n",
        "        for i in range(n - 1, -1, -1):\n",
        "            qc.rx(params[p], i)\n",
        "            p += 1\n",
        "            qc.rz(params[p], i)\n",
        "            p += 1\n",
        "            for j in range(n - 1, -1, -1):\n",
        "                if i != j:\n",
        "                    qc.crz(params[p], i, j)\n",
        "                    p += 1\n",
        "    return qc"
      ]
    },
    {
      "cell_type": "code",
      "execution_count": 15,
      "metadata": {
        "id": "2MLYvoffuhVn"
      },
      "outputs": [],
      "source": [
        "def NewCirc6(params):\n",
        "    assert len(params) == pcount[Ansatz.NewCirc6] \n",
        "    qc = QuantumCircuit(n, n)\n",
        "    p = 0\n",
        "    for _ in range(ITERS):\n",
        "        for i in range(n - 1, -1, -1):\n",
        "            qc.rx(params[p], i)\n",
        "            p += 1\n",
        "            qc.rz(params[p], i)\n",
        "            p += 1\n",
        "            for j in range(n - 1, -1, -1):\n",
        "                if i != j:\n",
        "                    qc.crx(params[p], i, j)\n",
        "                    p += 1\n",
        "    return qc"
      ]
    },
    {
      "cell_type": "code",
      "execution_count": 16,
      "metadata": {
        "id": "-QHkEd1kuhVn"
      },
      "outputs": [],
      "source": [
        "def NewCirc7(params):\n",
        "    assert len(params) == pcount[Ansatz.NewCirc7] \n",
        "    qc = QuantumCircuit(n, n)\n",
        "    p = 0\n",
        "    for _ in range(ITERS):\n",
        "        for i in range(n):\n",
        "            qc.rx(params[p], i)\n",
        "            p += 1\n",
        "            qc.rz(params[p], i)\n",
        "            p += 1\n",
        "        for j in range(1, n, 2):\n",
        "            qc.crz(params[p], j, j - 1)\n",
        "            p += 1\n",
        "        for i in range(n):\n",
        "            qc.rx(params[p], i)\n",
        "            p += 1\n",
        "            qc.rz(params[p], i)\n",
        "            p += 1\n",
        "        for j in range(2, n, 2):\n",
        "            qc.crz(params[p], j, j - 1)\n",
        "            p += 1\n",
        "    return qc"
      ]
    },
    {
      "cell_type": "code",
      "execution_count": 17,
      "metadata": {
        "id": "84R5YfY9uhVo"
      },
      "outputs": [],
      "source": [
        "def NewCirc8(params):\n",
        "    assert len(params) == pcount[Ansatz.NewCirc8] \n",
        "    qc = QuantumCircuit(n, n)\n",
        "    p = 0\n",
        "    for _ in range(ITERS):\n",
        "        for i in range(n):\n",
        "            qc.rx(params[p], i)\n",
        "            p += 1\n",
        "            qc.rz(params[p], i)\n",
        "            p += 1\n",
        "        for j in range(1, n, 2):\n",
        "            qc.crx(params[p], j, j - 1)\n",
        "            p += 1\n",
        "        for i in range(n):\n",
        "            qc.rx(params[p], i)\n",
        "            p += 1\n",
        "            qc.rz(params[p], i)\n",
        "            p += 1\n",
        "        for j in range(2, n, 2):\n",
        "            qc.crx(params[p], j, j - 1)\n",
        "            p += 1\n",
        "    return qc"
      ]
    },
    {
      "cell_type": "code",
      "execution_count": 18,
      "metadata": {
        "id": "aEcf1mcvuhVo"
      },
      "outputs": [],
      "source": [
        "def NewCirc9(params):\n",
        "    assert len(params) == pcount[Ansatz.NewCirc9] \n",
        "    qc = QuantumCircuit(n, n)\n",
        "    p = 0\n",
        "    for _ in range(ITERS):\n",
        "        for i in range(n - 1, -1, -1):\n",
        "            qc.h(i)\n",
        "            if i != 0:\n",
        "                qc.cz(i, i - 1)\n",
        "\n",
        "            qc.rx(params[p], i)\n",
        "            p += 1\n",
        "    return qc"
      ]
    },
    {
      "cell_type": "code",
      "execution_count": 19,
      "metadata": {
        "id": "sSoFc7QXuhVo"
      },
      "outputs": [],
      "source": [
        "def NewCirc10(params):\n",
        "    assert len(params) == pcount[Ansatz.NewCirc10] \n",
        "    qc = QuantumCircuit(n, n)\n",
        "    p = 0\n",
        "    for j in range(n):\n",
        "        qc.ry(params[p], j)\n",
        "        p += 1\n",
        "\n",
        "    for _ in range(ITERS):\n",
        "        for i in range(n - 1, -1, -1):\n",
        "            if i != 0:\n",
        "                qc.cz(i, i - 1)\n",
        "            else:\n",
        "                qc.cz(i, n - 1)\n",
        "            qc.rx(params[p], i)\n",
        "            p += 1\n",
        "    return qc"
      ]
    },
    {
      "cell_type": "code",
      "execution_count": 20,
      "metadata": {
        "id": "nRXwXAcguhVo"
      },
      "outputs": [],
      "source": [
        "def NewCirc11(params): #ASSUME n = 4\n",
        "    assert len(params) == pcount[Ansatz.NewCirc11] \n",
        "    qc = QuantumCircuit(4, 4)\n",
        "    p = 0\n",
        "    for _ in range(ITERS):\n",
        "        for i in range(4):\n",
        "            qc.ry(params[p], i)\n",
        "            p += 1\n",
        "            qc.rz(params[p], i)\n",
        "            p += 1\n",
        "        qc.cx(1, 0)\n",
        "        qc.cx(3, 2)\n",
        "        qc.ry(params[p], 1)\n",
        "        p += 1\n",
        "        qc.ry(params[p], 2)\n",
        "        p += 1\n",
        "        qc.rz(params[p], 1)\n",
        "        p += 1\n",
        "        qc.rz(params[p], 2)\n",
        "        p += 1\n",
        "        qc.cx(2, 1)\n",
        "            \n",
        "    return qc"
      ]
    },
    {
      "cell_type": "code",
      "execution_count": 21,
      "metadata": {
        "id": "WjguMb_MuhVo"
      },
      "outputs": [],
      "source": [
        "def NewCirc12(params): #ASSUME n = 4\n",
        "    assert len(params) == pcount[Ansatz.NewCirc12] \n",
        "    qc = QuantumCircuit(4, 4)\n",
        "    p = 0\n",
        "    for _ in range(ITERS):\n",
        "        for i in range(4):\n",
        "            qc.ry(params[p], i)\n",
        "            p += 1\n",
        "            qc.rz(params[p], i)\n",
        "            p += 1\n",
        "        qc.cz(0, 1)\n",
        "        qc.cz(2, 3)\n",
        "        qc.ry(params[p], 1)\n",
        "        p += 1\n",
        "        qc.ry(params[p], 2)\n",
        "        p += 1\n",
        "        qc.rz(params[p], 1)\n",
        "        p += 1\n",
        "        qc.rz(params[p], 2)\n",
        "        p += 1\n",
        "        qc.cz(1, 2)\n",
        "            \n",
        "    return qc"
      ]
    },
    {
      "cell_type": "code",
      "execution_count": 22,
      "metadata": {
        "id": "09Ec8PYRuhVo"
      },
      "outputs": [],
      "source": [
        "def NewCirc13(params):\n",
        "    assert len(params) == pcount[Ansatz.NewCirc13] \n",
        "    qc = QuantumCircuit(n, n)\n",
        "    p = 0\n",
        "    for _ in range(ITERS):\n",
        "        for i in range(n - 1, -1 , -1):\n",
        "            qc.ry(params[p], i)\n",
        "            p += 1\n",
        "            if i != n - 1:\n",
        "                qc.crz(params[p], i, i + 1)\n",
        "                p += 1\n",
        "            else:\n",
        "                qc.crz(params[p], i, 0)\n",
        "                p += 1\n",
        "            qc.ry(params[p], i)\n",
        "            p += 1\n",
        "            if i != 0:\n",
        "                qc.crz(params[p], i, i - 1)\n",
        "                p += 1\n",
        "            else:\n",
        "                qc.crz(params[p], i, n - 1)\n",
        "                p += 1\n",
        "    return qc"
      ]
    },
    {
      "cell_type": "code",
      "execution_count": 23,
      "metadata": {
        "id": "8amaQ8GuuhVo"
      },
      "outputs": [],
      "source": [
        "def NewCirc14(params):\n",
        "    assert len(params) == pcount[Ansatz.NewCirc14] \n",
        "    qc = QuantumCircuit(n, n)\n",
        "    p = 0\n",
        "    for _ in range(ITERS):\n",
        "        for i in range(n - 1, -1 , -1):\n",
        "            qc.ry(params[p], i)\n",
        "            p += 1\n",
        "            if i != n - 1:\n",
        "                qc.crx(params[p], i, i + 1)\n",
        "                p += 1\n",
        "            else:\n",
        "                qc.crx(params[p], i, 0)\n",
        "                p += 1\n",
        "            qc.ry(params[p], i)\n",
        "            p += 1\n",
        "            if i != 0:\n",
        "                qc.crx(params[p], i, i - 1)\n",
        "                p += 1\n",
        "            else:\n",
        "                qc.crx(params[p], i, n - 1)\n",
        "                p += 1\n",
        "    return qc"
      ]
    },
    {
      "cell_type": "code",
      "execution_count": 24,
      "metadata": {
        "id": "EgZWRktnuhVo"
      },
      "outputs": [],
      "source": [
        "def NewCirc15(params):\n",
        "    assert len(params) == pcount[Ansatz.NewCirc15] \n",
        "    qc = QuantumCircuit(n, n)\n",
        "    p = 0\n",
        "    for _ in range(ITERS):\n",
        "        for i in range(n - 1, -1 , -1):\n",
        "            qc.ry(params[p], i)\n",
        "            p += 1\n",
        "            if i != n - 1:\n",
        "                qc.cx(i, i + 1)\n",
        "            else:\n",
        "                qc.cx(i, 0)\n",
        "            qc.ry(params[p], i)\n",
        "            p += 1\n",
        "            if i != 0:\n",
        "                qc.cx(i, i - 1)\n",
        "            else:\n",
        "                qc.cx(i, n - 1)\n",
        "    return qc"
      ]
    },
    {
      "cell_type": "code",
      "execution_count": 25,
      "metadata": {
        "id": "_7JSicdfuhVo"
      },
      "outputs": [],
      "source": [
        "def NewCirc16(params):\n",
        "    assert len(params) == pcount[Ansatz.NewCirc16] \n",
        "    return NewCirc3(params)"
      ]
    },
    {
      "cell_type": "code",
      "execution_count": 26,
      "metadata": {
        "id": "o996gEpJuhVo"
      },
      "outputs": [],
      "source": [
        "def NewCirc17(params):\n",
        "    assert len(params) == pcount[Ansatz.NewCirc17] \n",
        "    return NewCirc4(params)"
      ]
    },
    {
      "cell_type": "code",
      "execution_count": 27,
      "metadata": {
        "id": "0gf786squhVo"
      },
      "outputs": [],
      "source": [
        "def NewCirc18(params):\n",
        "    assert len(params) == pcount[Ansatz.NewCirc18] \n",
        "    qc = QuantumCircuit(n, n)\n",
        "    p = 0\n",
        "    for _ in range(ITERS):\n",
        "        for i in range(n - 1, -1 , -1):\n",
        "            qc.rx(params[p], i)\n",
        "            p += 1\n",
        "            qc.rz(params[p], i)\n",
        "            p += 1\n",
        "            if i != n - 1:\n",
        "                qc.crz(params[p], i, i + 1)\n",
        "                p += 1\n",
        "            else:\n",
        "                qc.crz(params[p], i, 0)\n",
        "                p += 1\n",
        "    return qc"
      ]
    },
    {
      "cell_type": "code",
      "execution_count": 28,
      "metadata": {
        "id": "DIuPcDmCuhVo"
      },
      "outputs": [],
      "source": [
        "def NewCirc19(params):\n",
        "    assert len(params) == pcount[Ansatz.NewCirc19] \n",
        "    qc = QuantumCircuit(n, n)\n",
        "    p = 0\n",
        "    for _ in range(ITERS):\n",
        "        for i in range(n - 1, -1 , -1):\n",
        "            qc.rx(params[p], i)\n",
        "            p += 1\n",
        "            qc.rz(params[p], i)\n",
        "            p += 1\n",
        "            if i != n - 1:\n",
        "                qc.crx(params[p], i, i + 1)\n",
        "                p += 1\n",
        "            else:\n",
        "                qc.crx(params[p], i, 0)\n",
        "                p += 1\n",
        "    return qc"
      ]
    },
    {
      "cell_type": "markdown",
      "metadata": {
        "id": "7AFr5BXMuhVp"
      },
      "source": [
        "##### Converts Ansatz to Function"
      ]
    },
    {
      "cell_type": "code",
      "execution_count": 29,
      "metadata": {
        "id": "iEz0Blu0uhVp"
      },
      "outputs": [],
      "source": [
        "ansatz_to_fn = {Ansatz.Hardware_Efficient_Ansatz: Hardware_Efficient_Ansatz, \n",
        "        Ansatz.CNOT_Ansatz: CNOT_Ansatz,\n",
        "        Ansatz.Adiabatic_Ansatz: Adiabatic_Ansatz,\n",
        "        Ansatz.NewCirc1: NewCirc1,\n",
        "        Ansatz.NewCirc2: NewCirc2,\n",
        "        Ansatz.NewCirc3: NewCirc3,\n",
        "        Ansatz.NewCirc4: NewCirc4,\n",
        "        Ansatz.NewCirc5: NewCirc5,\n",
        "        Ansatz.NewCirc6: NewCirc6,\n",
        "        Ansatz.NewCirc7: NewCirc7,\n",
        "        Ansatz.NewCirc8: NewCirc8,\n",
        "        Ansatz.NewCirc9: NewCirc9,\n",
        "        Ansatz.NewCirc10: NewCirc10,\n",
        "        Ansatz.NewCirc11: NewCirc11, # only for 4 qubit case \n",
        "        Ansatz.NewCirc12: NewCirc12, # only for 4 qubit case \n",
        "        Ansatz.NewCirc13: NewCirc13,\n",
        "        Ansatz.NewCirc14: NewCirc14,\n",
        "        Ansatz.NewCirc15: NewCirc15,\n",
        "        Ansatz.NewCirc16: NewCirc16,\n",
        "        Ansatz.NewCirc17: NewCirc17,\n",
        "        Ansatz.NewCirc18: NewCirc18,\n",
        "        Ansatz.NewCirc19: NewCirc19,\n",
        "        }"
      ]
    },
    {
      "cell_type": "markdown",
      "metadata": {
        "id": "UEFrmvmJLYS1"
      },
      "source": [
        "#### 4. VQE + SSVQE: DO NOT MODIFY."
      ]
    },
    {
      "cell_type": "code",
      "execution_count": 30,
      "metadata": {
        "id": "5nqi67ZwLef1"
      },
      "outputs": [],
      "source": [
        "decomposition_terms = decompose(H) # get decomposition terms\n",
        "\n",
        "def all_ansatzes(params):\n",
        "  ansatzes = dict()\n",
        "  for tproducts, coeff in decomposition_terms.items():\n",
        "    if np.abs(coeff) != 0:\n",
        "      if tproducts.count(\"id\") == n:\n",
        "        qc = QuantumCircuit(1, 1) # circuit always measuring 1\n",
        "        qc.measure(0, 0)\n",
        "        ansatzes[tproducts] = (coeff, qc)\n",
        "      else:\n",
        "        circuit = ansatz_to_fn[ANSATZ](params)\n",
        "        for i in range(n):\n",
        "          pauli = tproducts[i]\n",
        "          if pauli == \"x\":\n",
        "            circuit.h(i)\n",
        "          elif pauli == \"y\":\n",
        "            circuit.sdg(i)\n",
        "            circuit.h(i)\n",
        "          if pauli != \"id\": # don't need to measure identity observables\n",
        "            circuit.measure(i, i)\n",
        "        ansatzes[tproducts] = (coeff, circuit)\n",
        "    else:\n",
        "      logging.error('Should not be attempting to compute ansatz when coefficient is zero.')\n",
        "  return ansatzes"
      ]
    },
    {
      "cell_type": "markdown",
      "metadata": {
        "id": "xoQj2_z3OCBO"
      },
      "source": [
        "Now we have all the ansatzes to do VQE and their corresponding coefficients. NOTE: This VQE is  SSVQE with K=1, so we never use this function (only for me to practice). :"
      ]
    },
    {
      "cell_type": "code",
      "execution_count": 31,
      "metadata": {
        "id": "7wlrQxdQOxg8"
      },
      "outputs": [],
      "source": [
        "\n",
        "# backend = Aer.get_backend(\"statevector_simulator\")\n",
        "\n",
        "\n",
        "def VQE(parameters):\n",
        "  ansatzes = all_ansatzes(parameters)\n",
        "  guess = 0\n",
        "  for ansatz in ansatzes:\n",
        "    t_qc = transpile(ansatzes[ansatz][1], backend)\n",
        "    qobj = assemble(t_qc, shots=SHOTS)     \n",
        "    result = backend.run(qobj).result()\n",
        "    output = result.get_counts(ansatzes[ansatz][1])\n",
        "    # calculate averaged measurement result (+1 iff even number of 1's, otw -1)\n",
        "    avg_measurement = 0\n",
        "    for res in output:\n",
        "        if str(res).count(\"1\") % 2 == 0:\n",
        "          avg_measurement += output[res]\n",
        "        else:\n",
        "          avg_measurement -= output[res]\n",
        "    guess += avg_measurement * ansatzes[ansatz][0]\n",
        "  \n",
        "  guess /= SHOTS\n",
        "    \n",
        "  return guess"
      ]
    },
    {
      "cell_type": "code",
      "execution_count": 32,
      "metadata": {
        "id": "wJfVsZW2MBtJ"
      },
      "outputs": [],
      "source": [
        "backend = Aer.get_backend(\"qasm_simulator\")\n",
        "\n",
        "def SSVQE(parameters):\n",
        "  total_cost = 0\n",
        "  for i in range(K):\n",
        "    weight = get_weights(i) #  weight function \n",
        "\n",
        "    ############################################################################\n",
        "\n",
        "    ## ANALYTIC APPROACH: if we're gonna simulate, instead lets just calculate ev directly ##\n",
        "    # circuit = ansatz_to_fn[ANSATZ](parameters)\n",
        "    # result = np.array(execute(circuit, backend).result().get_statevector())\n",
        "    # resultH = np.conj(result).T\n",
        "    # ev = resultH @ H @ result\n",
        "    # ev = np.real(ev)\n",
        "        \n",
        "    # total_cost += ev * weight \n",
        "\n",
        "    ############################################################################\n",
        "\n",
        "    ## EXPERIMENTAL APPROACH: Do decomposition + minimize each basis state ##\n",
        "\n",
        "    ansatzes = all_ansatzes(parameters)\n",
        "\n",
        "    intermediate_cost = 0\n",
        "\n",
        "    for ansatz in ansatzes: \n",
        "      if ansatzes[ansatz][1].depth() > 1: # hacky way of checking it's not just identity ansatz, a special case\n",
        "        circuit = k_state(i).compose(ansatzes[ansatz][1])\n",
        "      else:\n",
        "        # quick and dirty +1 measurement on all id case\n",
        "        circuit = QuantumCircuit(1)\n",
        "        circuit.measure_all()\n",
        "   \n",
        "      result = execute(circuit, backend, shots=SHOTS).result()\n",
        "      output = result.get_counts(circuit)\n",
        "      # calculate averaged measurement result (+1 iff even number of 1's, otw -1)\n",
        "      avg_measurement = 0\n",
        "      for res in output:\n",
        "          if str(res).count(\"1\") % 2 == 0:\n",
        "            avg_measurement += output[res]\n",
        "          else:\n",
        "            avg_measurement -= output[res]\n",
        "      avg_measurement /= SHOTS\n",
        "      \n",
        "      if np.abs(avg_measurement) > 1:\n",
        "        logging.error(f\"Bad measurement: {avg_measurement}\")\n",
        "\n",
        "      intermediate_cost += (avg_measurement * ansatzes[ansatz][0])\n",
        "\n",
        "    # print(f\"E({i}):\", np.round(intermediate_cost, 3), end= \" \") # relevant for SSVQE\n",
        "    total_cost += intermediate_cost * weight\n",
        "\n",
        "  return total_cost\n",
        "\n",
        "# return circuit outputting |k>.\n",
        "def k_state(k):\n",
        "  qc = QuantumCircuit(n, n)\n",
        "  for i in range(n):\n",
        "    if (k >> i) % 2 == 1:\n",
        "      qc.x(i)\n",
        "  return qc "
      ]
    },
    {
      "cell_type": "markdown",
      "metadata": {
        "id": "MqWN3mNscn9b"
      },
      "source": [
        "#### 5. Run the SPSA Optimization Procedure."
      ]
    },
    {
      "cell_type": "code",
      "execution_count": 33,
      "metadata": {
        "id": "pnheUGpUdLbo"
      },
      "outputs": [],
      "source": [
        "from qiskit.algorithms.optimizers import SPSA\n",
        "\n",
        "def SPSA_optimize(ansatz, iterations):\n",
        "  global ANSATZ\n",
        "  ANSATZ = ansatz\n",
        "  info = [] \n",
        "  iter = 0\n",
        "  def get_SPSA_info(a1,a2,a3,a4,a5):\n",
        "    nonlocal iter \n",
        "    iter += 1\n",
        "\n",
        "    # ADD COST\n",
        "    info.append((iter, a2, a3))\n",
        "    if iter % 10 == 0:\n",
        "      logging.log(25, f\"Iter:{iter}, Cost:{a3}\")\n",
        "\n",
        "  logging.log(25, f\"Starting optimization with Ansatz={ANSATZ}\")\n",
        "  optimizer = SPSA(maxiter=iterations, blocking=True, callback=get_SPSA_info)\n",
        "  optimizer.optimize(pcount[ANSATZ], SSVQE, initial_point=PARAMS[:pcount[ANSATZ]])\n",
        "  return info"
      ]
    },
    {
      "cell_type": "markdown",
      "metadata": {
        "id": "s93sC6XKfUYc"
      },
      "source": [
        "#### 6. Analysis: ADD OR MODIFY"
      ]
    },
    {
      "cell_type": "markdown",
      "metadata": {
        "id": "dGibdy7FuhVp"
      },
      "source": [
        "##### Analysis for VQE (not SSVQE)"
      ]
    },
    {
      "cell_type": "code",
      "execution_count": 34,
      "metadata": {
        "id": "C8wWve7SfZ0i"
      },
      "outputs": [
        {
          "name": "stderr",
          "output_type": "stream",
          "text": [
            "/usr/local/lib/python3.8/site-packages/qiskit/algorithms/optimizers/spsa.py:191: RuntimeWarning: divide by zero encountered in double_scalars\n",
            "  a = target_magnitude / avg_magnitudes\n",
            "/usr/local/lib/python3.8/site-packages/qiskit/algorithms/optimizers/spsa.py:306: RuntimeWarning: invalid value encountered in multiply\n",
            "  update = update * next(eta)\n"
          ]
        },
        {
          "ename": "ValueError",
          "evalue": "array must not contain infs or NaNs",
          "output_type": "error",
          "traceback": [
            "\u001b[0;31m---------------------------------------------------------------------------\u001b[0m",
            "\u001b[0;31mValueError\u001b[0m                                Traceback (most recent call last)",
            "\u001b[0;32m<ipython-input-34-4994ed4a6275>\u001b[0m in \u001b[0;36m<module>\u001b[0;34m\u001b[0m\n\u001b[1;32m     15\u001b[0m     \u001b[0;32mif\u001b[0m \u001b[0mn\u001b[0m \u001b[0;34m==\u001b[0m \u001b[0;36m4\u001b[0m \u001b[0;32mor\u001b[0m \u001b[0ma\u001b[0m \u001b[0;32mnot\u001b[0m \u001b[0;32min\u001b[0m \u001b[0;34m[\u001b[0m\u001b[0;36m13\u001b[0m\u001b[0;34m,\u001b[0m \u001b[0;36m14\u001b[0m\u001b[0;34m]\u001b[0m\u001b[0;34m:\u001b[0m \u001b[0;31m# these two ansatzes are 4-qubit specific\u001b[0m\u001b[0;34m\u001b[0m\u001b[0;34m\u001b[0m\u001b[0m\n\u001b[1;32m     16\u001b[0m \u001b[0;34m\u001b[0m\u001b[0m\n\u001b[0;32m---> 17\u001b[0;31m         \u001b[0mresults\u001b[0m \u001b[0;34m=\u001b[0m \u001b[0mSPSA_optimize\u001b[0m\u001b[0;34m(\u001b[0m\u001b[0mAnsatz\u001b[0m\u001b[0;34m(\u001b[0m\u001b[0ma\u001b[0m\u001b[0;34m)\u001b[0m\u001b[0;34m,\u001b[0m \u001b[0miterations\u001b[0m\u001b[0;34m)\u001b[0m\u001b[0;34m\u001b[0m\u001b[0;34m\u001b[0m\u001b[0m\n\u001b[0m\u001b[1;32m     18\u001b[0m         \u001b[0mbest\u001b[0m \u001b[0;34m=\u001b[0m \u001b[0msorted\u001b[0m\u001b[0;34m(\u001b[0m\u001b[0mresults\u001b[0m\u001b[0;34m,\u001b[0m \u001b[0mkey\u001b[0m\u001b[0;34m=\u001b[0m\u001b[0;32mlambda\u001b[0m \u001b[0mx\u001b[0m\u001b[0;34m:\u001b[0m \u001b[0mx\u001b[0m\u001b[0;34m[\u001b[0m\u001b[0;36m2\u001b[0m\u001b[0;34m]\u001b[0m\u001b[0;34m)\u001b[0m\u001b[0;34m[\u001b[0m\u001b[0;36m0\u001b[0m\u001b[0;34m]\u001b[0m \u001b[0;31m# lowest cost function\u001b[0m\u001b[0;34m\u001b[0m\u001b[0;34m\u001b[0m\u001b[0m\n\u001b[1;32m     19\u001b[0m         \u001b[0ma0\u001b[0m \u001b[0;34m=\u001b[0m \u001b[0mdict\u001b[0m\u001b[0;34m(\u001b[0m\u001b[0;34m)\u001b[0m\u001b[0;34m\u001b[0m\u001b[0;34m\u001b[0m\u001b[0m\n",
            "\u001b[0;32m<ipython-input-33-8309572ecb32>\u001b[0m in \u001b[0;36mSPSA_optimize\u001b[0;34m(ansatz, iterations)\u001b[0m\n\u001b[1;32m     17\u001b[0m   \u001b[0mlogging\u001b[0m\u001b[0;34m.\u001b[0m\u001b[0mlog\u001b[0m\u001b[0;34m(\u001b[0m\u001b[0;36m25\u001b[0m\u001b[0;34m,\u001b[0m \u001b[0;34mf\"Starting optimization with Ansatz={ANSATZ}\"\u001b[0m\u001b[0;34m)\u001b[0m\u001b[0;34m\u001b[0m\u001b[0;34m\u001b[0m\u001b[0m\n\u001b[1;32m     18\u001b[0m   \u001b[0moptimizer\u001b[0m \u001b[0;34m=\u001b[0m \u001b[0mSPSA\u001b[0m\u001b[0;34m(\u001b[0m\u001b[0mmaxiter\u001b[0m\u001b[0;34m=\u001b[0m\u001b[0miterations\u001b[0m\u001b[0;34m,\u001b[0m \u001b[0mblocking\u001b[0m\u001b[0;34m=\u001b[0m\u001b[0;32mTrue\u001b[0m\u001b[0;34m,\u001b[0m \u001b[0mcallback\u001b[0m\u001b[0;34m=\u001b[0m\u001b[0mget_SPSA_info\u001b[0m\u001b[0;34m)\u001b[0m\u001b[0;34m\u001b[0m\u001b[0;34m\u001b[0m\u001b[0m\n\u001b[0;32m---> 19\u001b[0;31m   \u001b[0moptimizer\u001b[0m\u001b[0;34m.\u001b[0m\u001b[0moptimize\u001b[0m\u001b[0;34m(\u001b[0m\u001b[0mpcount\u001b[0m\u001b[0;34m[\u001b[0m\u001b[0mANSATZ\u001b[0m\u001b[0;34m]\u001b[0m\u001b[0;34m,\u001b[0m \u001b[0mSSVQE\u001b[0m\u001b[0;34m,\u001b[0m \u001b[0minitial_point\u001b[0m\u001b[0;34m=\u001b[0m\u001b[0mPARAMS\u001b[0m\u001b[0;34m[\u001b[0m\u001b[0;34m:\u001b[0m\u001b[0mpcount\u001b[0m\u001b[0;34m[\u001b[0m\u001b[0mANSATZ\u001b[0m\u001b[0;34m]\u001b[0m\u001b[0;34m]\u001b[0m\u001b[0;34m)\u001b[0m\u001b[0;34m\u001b[0m\u001b[0;34m\u001b[0m\u001b[0m\n\u001b[0m\u001b[1;32m     20\u001b[0m   \u001b[0;32mreturn\u001b[0m \u001b[0minfo\u001b[0m\u001b[0;34m\u001b[0m\u001b[0;34m\u001b[0m\u001b[0m\n",
            "\u001b[0;32m/usr/local/lib/python3.8/site-packages/qiskit/algorithms/optimizers/spsa.py\u001b[0m in \u001b[0;36moptimize\u001b[0;34m(self, num_vars, objective_function, gradient_function, variable_bounds, initial_point)\u001b[0m\n\u001b[1;32m    362\u001b[0m     def optimize(self, num_vars, objective_function, gradient_function=None,\n\u001b[1;32m    363\u001b[0m                  variable_bounds=None, initial_point=None):\n\u001b[0;32m--> 364\u001b[0;31m         \u001b[0;32mreturn\u001b[0m \u001b[0mself\u001b[0m\u001b[0;34m.\u001b[0m\u001b[0m_minimize\u001b[0m\u001b[0;34m(\u001b[0m\u001b[0mobjective_function\u001b[0m\u001b[0;34m,\u001b[0m \u001b[0minitial_point\u001b[0m\u001b[0;34m)\u001b[0m\u001b[0;34m\u001b[0m\u001b[0;34m\u001b[0m\u001b[0m\n\u001b[0m\u001b[1;32m    365\u001b[0m \u001b[0;34m\u001b[0m\u001b[0m\n\u001b[1;32m    366\u001b[0m \u001b[0;34m\u001b[0m\u001b[0m\n",
            "\u001b[0;32m/usr/local/lib/python3.8/site-packages/qiskit/algorithms/optimizers/spsa.py\u001b[0m in \u001b[0;36m_minimize\u001b[0;34m(self, loss, initial_point)\u001b[0m\n\u001b[1;32m    309\u001b[0m             \u001b[0;31m# blocking\u001b[0m\u001b[0;34m\u001b[0m\u001b[0;34m\u001b[0m\u001b[0;34m\u001b[0m\u001b[0m\n\u001b[1;32m    310\u001b[0m             \u001b[0;32mif\u001b[0m \u001b[0mself\u001b[0m\u001b[0;34m.\u001b[0m\u001b[0mblocking\u001b[0m\u001b[0;34m:\u001b[0m\u001b[0;34m\u001b[0m\u001b[0;34m\u001b[0m\u001b[0m\n\u001b[0;32m--> 311\u001b[0;31m                 \u001b[0mfx_next\u001b[0m \u001b[0;34m=\u001b[0m \u001b[0mloss\u001b[0m\u001b[0;34m(\u001b[0m\u001b[0mx_next\u001b[0m\u001b[0;34m)\u001b[0m\u001b[0;34m\u001b[0m\u001b[0;34m\u001b[0m\u001b[0m\n\u001b[0m\u001b[1;32m    312\u001b[0m \u001b[0;34m\u001b[0m\u001b[0m\n\u001b[1;32m    313\u001b[0m                 \u001b[0mself\u001b[0m\u001b[0;34m.\u001b[0m\u001b[0m_nfev\u001b[0m \u001b[0;34m+=\u001b[0m \u001b[0;36m1\u001b[0m\u001b[0;34m\u001b[0m\u001b[0;34m\u001b[0m\u001b[0m\n",
            "\u001b[0;32m<ipython-input-32-832b0eacfee8>\u001b[0m in \u001b[0;36mSSVQE\u001b[0;34m(parameters)\u001b[0m\n\u001b[1;32m     33\u001b[0m         \u001b[0mcircuit\u001b[0m\u001b[0;34m.\u001b[0m\u001b[0mmeasure_all\u001b[0m\u001b[0;34m(\u001b[0m\u001b[0;34m)\u001b[0m\u001b[0;34m\u001b[0m\u001b[0;34m\u001b[0m\u001b[0m\n\u001b[1;32m     34\u001b[0m \u001b[0;34m\u001b[0m\u001b[0m\n\u001b[0;32m---> 35\u001b[0;31m       \u001b[0mresult\u001b[0m \u001b[0;34m=\u001b[0m \u001b[0mexecute\u001b[0m\u001b[0;34m(\u001b[0m\u001b[0mcircuit\u001b[0m\u001b[0;34m,\u001b[0m \u001b[0mbackend\u001b[0m\u001b[0;34m,\u001b[0m \u001b[0mshots\u001b[0m\u001b[0;34m=\u001b[0m\u001b[0mSHOTS\u001b[0m\u001b[0;34m)\u001b[0m\u001b[0;34m.\u001b[0m\u001b[0mresult\u001b[0m\u001b[0;34m(\u001b[0m\u001b[0;34m)\u001b[0m\u001b[0;34m\u001b[0m\u001b[0;34m\u001b[0m\u001b[0m\n\u001b[0m\u001b[1;32m     36\u001b[0m       \u001b[0moutput\u001b[0m \u001b[0;34m=\u001b[0m \u001b[0mresult\u001b[0m\u001b[0;34m.\u001b[0m\u001b[0mget_counts\u001b[0m\u001b[0;34m(\u001b[0m\u001b[0mcircuit\u001b[0m\u001b[0;34m)\u001b[0m\u001b[0;34m\u001b[0m\u001b[0;34m\u001b[0m\u001b[0m\n\u001b[1;32m     37\u001b[0m       \u001b[0;31m# calculate averaged measurement result (+1 iff even number of 1's, otw -1)\u001b[0m\u001b[0;34m\u001b[0m\u001b[0;34m\u001b[0m\u001b[0;34m\u001b[0m\u001b[0m\n",
            "\u001b[0;32m/usr/local/lib/python3.8/site-packages/qiskit/execute_function.py\u001b[0m in \u001b[0;36mexecute\u001b[0;34m(experiments, backend, basis_gates, coupling_map, backend_properties, initial_layout, seed_transpiler, optimization_level, pass_manager, qobj_id, qobj_header, shots, memory, max_credits, seed_simulator, default_qubit_los, default_meas_los, schedule_los, meas_level, meas_return, memory_slots, memory_slot_size, rep_time, rep_delay, parameter_binds, schedule_circuit, inst_map, meas_map, scheduling_method, init_qubits, **run_config)\u001b[0m\n\u001b[1;32m    250\u001b[0m     \u001b[0;32melse\u001b[0m\u001b[0;34m:\u001b[0m\u001b[0;34m\u001b[0m\u001b[0;34m\u001b[0m\u001b[0m\n\u001b[1;32m    251\u001b[0m         \u001b[0;31m# transpiling the circuits using given transpile options\u001b[0m\u001b[0;34m\u001b[0m\u001b[0;34m\u001b[0m\u001b[0;34m\u001b[0m\u001b[0m\n\u001b[0;32m--> 252\u001b[0;31m         experiments = transpile(experiments,\n\u001b[0m\u001b[1;32m    253\u001b[0m                                 \u001b[0mbasis_gates\u001b[0m\u001b[0;34m=\u001b[0m\u001b[0mbasis_gates\u001b[0m\u001b[0;34m,\u001b[0m\u001b[0;34m\u001b[0m\u001b[0;34m\u001b[0m\u001b[0m\n\u001b[1;32m    254\u001b[0m                                 \u001b[0mcoupling_map\u001b[0m\u001b[0;34m=\u001b[0m\u001b[0mcoupling_map\u001b[0m\u001b[0;34m,\u001b[0m\u001b[0;34m\u001b[0m\u001b[0;34m\u001b[0m\u001b[0m\n",
            "\u001b[0;32m/usr/local/lib/python3.8/site-packages/qiskit/compiler/transpiler.py\u001b[0m in \u001b[0;36mtranspile\u001b[0;34m(circuits, backend, basis_gates, coupling_map, backend_properties, initial_layout, layout_method, routing_method, translation_method, scheduling_method, instruction_durations, dt, approximation_degree, seed_transpiler, optimization_level, pass_manager, callback, output_name)\u001b[0m\n\u001b[1;32m    243\u001b[0m \u001b[0;34m\u001b[0m\u001b[0m\n\u001b[1;32m    244\u001b[0m     \u001b[0;31m# Transpile circuits in parallel\u001b[0m\u001b[0;34m\u001b[0m\u001b[0;34m\u001b[0m\u001b[0;34m\u001b[0m\u001b[0m\n\u001b[0;32m--> 245\u001b[0;31m     \u001b[0mcircuits\u001b[0m \u001b[0;34m=\u001b[0m \u001b[0mparallel_map\u001b[0m\u001b[0;34m(\u001b[0m\u001b[0m_transpile_circuit\u001b[0m\u001b[0;34m,\u001b[0m \u001b[0mlist\u001b[0m\u001b[0;34m(\u001b[0m\u001b[0mzip\u001b[0m\u001b[0;34m(\u001b[0m\u001b[0mcircuits\u001b[0m\u001b[0;34m,\u001b[0m \u001b[0mtranspile_args\u001b[0m\u001b[0;34m)\u001b[0m\u001b[0;34m)\u001b[0m\u001b[0;34m)\u001b[0m\u001b[0;34m\u001b[0m\u001b[0;34m\u001b[0m\u001b[0m\n\u001b[0m\u001b[1;32m    246\u001b[0m \u001b[0;34m\u001b[0m\u001b[0m\n\u001b[1;32m    247\u001b[0m     \u001b[0mend_time\u001b[0m \u001b[0;34m=\u001b[0m \u001b[0mtime\u001b[0m\u001b[0;34m(\u001b[0m\u001b[0;34m)\u001b[0m\u001b[0;34m\u001b[0m\u001b[0;34m\u001b[0m\u001b[0m\n",
            "\u001b[0;32m/usr/local/lib/python3.8/site-packages/qiskit/tools/parallel.py\u001b[0m in \u001b[0;36mparallel_map\u001b[0;34m(task, values, task_args, task_kwargs, num_processes)\u001b[0m\n\u001b[1;32m    126\u001b[0m         \u001b[0;32mreturn\u001b[0m \u001b[0;34m[\u001b[0m\u001b[0;34m]\u001b[0m\u001b[0;34m\u001b[0m\u001b[0;34m\u001b[0m\u001b[0m\n\u001b[1;32m    127\u001b[0m     \u001b[0;32mif\u001b[0m \u001b[0mlen\u001b[0m\u001b[0;34m(\u001b[0m\u001b[0mvalues\u001b[0m\u001b[0;34m)\u001b[0m \u001b[0;34m==\u001b[0m \u001b[0;36m1\u001b[0m\u001b[0;34m:\u001b[0m\u001b[0;34m\u001b[0m\u001b[0;34m\u001b[0m\u001b[0m\n\u001b[0;32m--> 128\u001b[0;31m         \u001b[0;32mreturn\u001b[0m \u001b[0;34m[\u001b[0m\u001b[0mtask\u001b[0m\u001b[0;34m(\u001b[0m\u001b[0mvalues\u001b[0m\u001b[0;34m[\u001b[0m\u001b[0;36m0\u001b[0m\u001b[0;34m]\u001b[0m\u001b[0;34m,\u001b[0m \u001b[0;34m*\u001b[0m\u001b[0mtask_args\u001b[0m\u001b[0;34m,\u001b[0m \u001b[0;34m**\u001b[0m\u001b[0mtask_kwargs\u001b[0m\u001b[0;34m)\u001b[0m\u001b[0;34m]\u001b[0m\u001b[0;34m\u001b[0m\u001b[0;34m\u001b[0m\u001b[0m\n\u001b[0m\u001b[1;32m    129\u001b[0m \u001b[0;34m\u001b[0m\u001b[0m\n\u001b[1;32m    130\u001b[0m     \u001b[0mPublisher\u001b[0m\u001b[0;34m(\u001b[0m\u001b[0;34m)\u001b[0m\u001b[0;34m.\u001b[0m\u001b[0mpublish\u001b[0m\u001b[0;34m(\u001b[0m\u001b[0;34m\"terra.parallel.start\"\u001b[0m\u001b[0;34m,\u001b[0m \u001b[0mlen\u001b[0m\u001b[0;34m(\u001b[0m\u001b[0mvalues\u001b[0m\u001b[0;34m)\u001b[0m\u001b[0;34m)\u001b[0m\u001b[0;34m\u001b[0m\u001b[0;34m\u001b[0m\u001b[0m\n",
            "\u001b[0;32m/usr/local/lib/python3.8/site-packages/qiskit/compiler/transpiler.py\u001b[0m in \u001b[0;36m_transpile_circuit\u001b[0;34m(circuit_config_tuple)\u001b[0m\n\u001b[1;32m    326\u001b[0m         \u001b[0;32mraise\u001b[0m \u001b[0mTranspilerError\u001b[0m\u001b[0;34m(\u001b[0m\u001b[0;34m\"optimization_level can range from 0 to 3.\"\u001b[0m\u001b[0;34m)\u001b[0m\u001b[0;34m\u001b[0m\u001b[0;34m\u001b[0m\u001b[0m\n\u001b[1;32m    327\u001b[0m \u001b[0;34m\u001b[0m\u001b[0m\n\u001b[0;32m--> 328\u001b[0;31m     result = pass_manager.run(circuit, callback=transpile_config['callback'],\n\u001b[0m\u001b[1;32m    329\u001b[0m                               output_name=transpile_config['output_name'])\n\u001b[1;32m    330\u001b[0m \u001b[0;34m\u001b[0m\u001b[0m\n",
            "\u001b[0;32m/usr/local/lib/python3.8/site-packages/qiskit/transpiler/passmanager.py\u001b[0m in \u001b[0;36mrun\u001b[0;34m(self, circuits, output_name, callback)\u001b[0m\n\u001b[1;32m    214\u001b[0m         \"\"\"\n\u001b[1;32m    215\u001b[0m         \u001b[0;32mif\u001b[0m \u001b[0misinstance\u001b[0m\u001b[0;34m(\u001b[0m\u001b[0mcircuits\u001b[0m\u001b[0;34m,\u001b[0m \u001b[0mQuantumCircuit\u001b[0m\u001b[0;34m)\u001b[0m\u001b[0;34m:\u001b[0m\u001b[0;34m\u001b[0m\u001b[0;34m\u001b[0m\u001b[0m\n\u001b[0;32m--> 216\u001b[0;31m             \u001b[0;32mreturn\u001b[0m \u001b[0mself\u001b[0m\u001b[0;34m.\u001b[0m\u001b[0m_run_single_circuit\u001b[0m\u001b[0;34m(\u001b[0m\u001b[0mcircuits\u001b[0m\u001b[0;34m,\u001b[0m \u001b[0moutput_name\u001b[0m\u001b[0;34m,\u001b[0m \u001b[0mcallback\u001b[0m\u001b[0;34m)\u001b[0m\u001b[0;34m\u001b[0m\u001b[0;34m\u001b[0m\u001b[0m\n\u001b[0m\u001b[1;32m    217\u001b[0m         \u001b[0;32melif\u001b[0m \u001b[0mlen\u001b[0m\u001b[0;34m(\u001b[0m\u001b[0mcircuits\u001b[0m\u001b[0;34m)\u001b[0m \u001b[0;34m==\u001b[0m \u001b[0;36m1\u001b[0m\u001b[0;34m:\u001b[0m\u001b[0;34m\u001b[0m\u001b[0;34m\u001b[0m\u001b[0m\n\u001b[1;32m    218\u001b[0m             \u001b[0;32mreturn\u001b[0m \u001b[0mself\u001b[0m\u001b[0;34m.\u001b[0m\u001b[0m_run_single_circuit\u001b[0m\u001b[0;34m(\u001b[0m\u001b[0mcircuits\u001b[0m\u001b[0;34m[\u001b[0m\u001b[0;36m0\u001b[0m\u001b[0;34m]\u001b[0m\u001b[0;34m,\u001b[0m \u001b[0moutput_name\u001b[0m\u001b[0;34m,\u001b[0m \u001b[0mcallback\u001b[0m\u001b[0;34m)\u001b[0m\u001b[0;34m\u001b[0m\u001b[0;34m\u001b[0m\u001b[0m\n",
            "\u001b[0;32m/usr/local/lib/python3.8/site-packages/qiskit/transpiler/passmanager.py\u001b[0m in \u001b[0;36m_run_single_circuit\u001b[0;34m(self, circuit, output_name, callback)\u001b[0m\n\u001b[1;32m    275\u001b[0m         \"\"\"\n\u001b[1;32m    276\u001b[0m         \u001b[0mrunning_passmanager\u001b[0m \u001b[0;34m=\u001b[0m \u001b[0mself\u001b[0m\u001b[0;34m.\u001b[0m\u001b[0m_create_running_passmanager\u001b[0m\u001b[0;34m(\u001b[0m\u001b[0;34m)\u001b[0m\u001b[0;34m\u001b[0m\u001b[0;34m\u001b[0m\u001b[0m\n\u001b[0;32m--> 277\u001b[0;31m         \u001b[0mresult\u001b[0m \u001b[0;34m=\u001b[0m \u001b[0mrunning_passmanager\u001b[0m\u001b[0;34m.\u001b[0m\u001b[0mrun\u001b[0m\u001b[0;34m(\u001b[0m\u001b[0mcircuit\u001b[0m\u001b[0;34m,\u001b[0m \u001b[0moutput_name\u001b[0m\u001b[0;34m=\u001b[0m\u001b[0moutput_name\u001b[0m\u001b[0;34m,\u001b[0m \u001b[0mcallback\u001b[0m\u001b[0;34m=\u001b[0m\u001b[0mcallback\u001b[0m\u001b[0;34m)\u001b[0m\u001b[0;34m\u001b[0m\u001b[0;34m\u001b[0m\u001b[0m\n\u001b[0m\u001b[1;32m    278\u001b[0m         \u001b[0mself\u001b[0m\u001b[0;34m.\u001b[0m\u001b[0mproperty_set\u001b[0m \u001b[0;34m=\u001b[0m \u001b[0mrunning_passmanager\u001b[0m\u001b[0;34m.\u001b[0m\u001b[0mproperty_set\u001b[0m\u001b[0;34m\u001b[0m\u001b[0;34m\u001b[0m\u001b[0m\n\u001b[1;32m    279\u001b[0m         \u001b[0;32mreturn\u001b[0m \u001b[0mresult\u001b[0m\u001b[0;34m\u001b[0m\u001b[0;34m\u001b[0m\u001b[0m\n",
            "\u001b[0;32m/usr/local/lib/python3.8/site-packages/qiskit/transpiler/runningpassmanager.py\u001b[0m in \u001b[0;36mrun\u001b[0;34m(***failed resolving arguments***)\u001b[0m\n\u001b[1;32m    120\u001b[0m         \u001b[0;32mfor\u001b[0m \u001b[0mpassset\u001b[0m \u001b[0;32min\u001b[0m \u001b[0mself\u001b[0m\u001b[0;34m.\u001b[0m\u001b[0mworking_list\u001b[0m\u001b[0;34m:\u001b[0m\u001b[0;34m\u001b[0m\u001b[0;34m\u001b[0m\u001b[0m\n\u001b[1;32m    121\u001b[0m             \u001b[0;32mfor\u001b[0m \u001b[0mpass_\u001b[0m \u001b[0;32min\u001b[0m \u001b[0mpassset\u001b[0m\u001b[0;34m:\u001b[0m\u001b[0;34m\u001b[0m\u001b[0;34m\u001b[0m\u001b[0m\n\u001b[0;32m--> 122\u001b[0;31m                 \u001b[0mdag\u001b[0m \u001b[0;34m=\u001b[0m \u001b[0mself\u001b[0m\u001b[0;34m.\u001b[0m\u001b[0m_do_pass\u001b[0m\u001b[0;34m(\u001b[0m\u001b[0mpass_\u001b[0m\u001b[0;34m,\u001b[0m \u001b[0mdag\u001b[0m\u001b[0;34m,\u001b[0m \u001b[0mpassset\u001b[0m\u001b[0;34m.\u001b[0m\u001b[0moptions\u001b[0m\u001b[0;34m)\u001b[0m\u001b[0;34m\u001b[0m\u001b[0;34m\u001b[0m\u001b[0m\n\u001b[0m\u001b[1;32m    123\u001b[0m \u001b[0;34m\u001b[0m\u001b[0m\n\u001b[1;32m    124\u001b[0m         \u001b[0mcircuit\u001b[0m \u001b[0;34m=\u001b[0m \u001b[0mdag_to_circuit\u001b[0m\u001b[0;34m(\u001b[0m\u001b[0mdag\u001b[0m\u001b[0;34m)\u001b[0m\u001b[0;34m\u001b[0m\u001b[0;34m\u001b[0m\u001b[0m\n",
            "\u001b[0;32m/usr/local/lib/python3.8/site-packages/qiskit/transpiler/runningpassmanager.py\u001b[0m in \u001b[0;36m_do_pass\u001b[0;34m(self, pass_, dag, options)\u001b[0m\n\u001b[1;32m    151\u001b[0m         \u001b[0;31m# Run the pass itself, if not already run\u001b[0m\u001b[0;34m\u001b[0m\u001b[0;34m\u001b[0m\u001b[0;34m\u001b[0m\u001b[0m\n\u001b[1;32m    152\u001b[0m         \u001b[0;32mif\u001b[0m \u001b[0mpass_\u001b[0m \u001b[0;32mnot\u001b[0m \u001b[0;32min\u001b[0m \u001b[0mself\u001b[0m\u001b[0;34m.\u001b[0m\u001b[0mvalid_passes\u001b[0m\u001b[0;34m:\u001b[0m\u001b[0;34m\u001b[0m\u001b[0;34m\u001b[0m\u001b[0m\n\u001b[0;32m--> 153\u001b[0;31m             \u001b[0mdag\u001b[0m \u001b[0;34m=\u001b[0m \u001b[0mself\u001b[0m\u001b[0;34m.\u001b[0m\u001b[0m_run_this_pass\u001b[0m\u001b[0;34m(\u001b[0m\u001b[0mpass_\u001b[0m\u001b[0;34m,\u001b[0m \u001b[0mdag\u001b[0m\u001b[0;34m)\u001b[0m\u001b[0;34m\u001b[0m\u001b[0;34m\u001b[0m\u001b[0m\n\u001b[0m\u001b[1;32m    154\u001b[0m \u001b[0;34m\u001b[0m\u001b[0m\n\u001b[1;32m    155\u001b[0m             \u001b[0;31m# update the valid_passes property\u001b[0m\u001b[0;34m\u001b[0m\u001b[0;34m\u001b[0m\u001b[0;34m\u001b[0m\u001b[0m\n",
            "\u001b[0;32m/usr/local/lib/python3.8/site-packages/qiskit/transpiler/runningpassmanager.py\u001b[0m in \u001b[0;36m_run_this_pass\u001b[0;34m(self, pass_, dag)\u001b[0m\n\u001b[1;32m    163\u001b[0m             \u001b[0;31m# Measure time if we have a callback or logging set\u001b[0m\u001b[0;34m\u001b[0m\u001b[0;34m\u001b[0m\u001b[0;34m\u001b[0m\u001b[0m\n\u001b[1;32m    164\u001b[0m             \u001b[0mstart_time\u001b[0m \u001b[0;34m=\u001b[0m \u001b[0mtime\u001b[0m\u001b[0;34m(\u001b[0m\u001b[0;34m)\u001b[0m\u001b[0;34m\u001b[0m\u001b[0;34m\u001b[0m\u001b[0m\n\u001b[0;32m--> 165\u001b[0;31m             \u001b[0mnew_dag\u001b[0m \u001b[0;34m=\u001b[0m \u001b[0mpass_\u001b[0m\u001b[0;34m.\u001b[0m\u001b[0mrun\u001b[0m\u001b[0;34m(\u001b[0m\u001b[0mdag\u001b[0m\u001b[0;34m)\u001b[0m\u001b[0;34m\u001b[0m\u001b[0;34m\u001b[0m\u001b[0m\n\u001b[0m\u001b[1;32m    166\u001b[0m             \u001b[0mend_time\u001b[0m \u001b[0;34m=\u001b[0m \u001b[0mtime\u001b[0m\u001b[0;34m(\u001b[0m\u001b[0;34m)\u001b[0m\u001b[0;34m\u001b[0m\u001b[0;34m\u001b[0m\u001b[0m\n\u001b[1;32m    167\u001b[0m             \u001b[0mrun_time\u001b[0m \u001b[0;34m=\u001b[0m \u001b[0mend_time\u001b[0m \u001b[0;34m-\u001b[0m \u001b[0mstart_time\u001b[0m\u001b[0;34m\u001b[0m\u001b[0;34m\u001b[0m\u001b[0m\n",
            "\u001b[0;32m/usr/local/lib/python3.8/site-packages/qiskit/transpiler/passes/optimization/optimize_1q_decomposition.py\u001b[0m in \u001b[0;36mrun\u001b[0;34m(self, dag)\u001b[0m\n\u001b[1;32m     99\u001b[0m                 \u001b[0moperator\u001b[0m \u001b[0;34m=\u001b[0m \u001b[0mgate\u001b[0m\u001b[0;34m.\u001b[0m\u001b[0mop\u001b[0m\u001b[0;34m.\u001b[0m\u001b[0mto_matrix\u001b[0m\u001b[0;34m(\u001b[0m\u001b[0;34m)\u001b[0m\u001b[0;34m.\u001b[0m\u001b[0mdot\u001b[0m\u001b[0;34m(\u001b[0m\u001b[0moperator\u001b[0m\u001b[0;34m)\u001b[0m\u001b[0;34m\u001b[0m\u001b[0;34m\u001b[0m\u001b[0m\n\u001b[1;32m    100\u001b[0m             \u001b[0;32mfor\u001b[0m \u001b[0mdecomposer\u001b[0m \u001b[0;32min\u001b[0m \u001b[0mself\u001b[0m\u001b[0;34m.\u001b[0m\u001b[0mbasis\u001b[0m\u001b[0;34m:\u001b[0m\u001b[0;34m\u001b[0m\u001b[0;34m\u001b[0m\u001b[0m\n\u001b[0;32m--> 101\u001b[0;31m                 \u001b[0mnew_circs\u001b[0m\u001b[0;34m.\u001b[0m\u001b[0mappend\u001b[0m\u001b[0;34m(\u001b[0m\u001b[0mdecomposer\u001b[0m\u001b[0;34m.\u001b[0m\u001b[0m_decompose\u001b[0m\u001b[0;34m(\u001b[0m\u001b[0moperator\u001b[0m\u001b[0;34m)\u001b[0m\u001b[0;34m)\u001b[0m\u001b[0;34m\u001b[0m\u001b[0;34m\u001b[0m\u001b[0m\n\u001b[0m\u001b[1;32m    102\u001b[0m             \u001b[0;32mif\u001b[0m \u001b[0mnew_circs\u001b[0m\u001b[0;34m:\u001b[0m\u001b[0;34m\u001b[0m\u001b[0;34m\u001b[0m\u001b[0m\n\u001b[1;32m    103\u001b[0m                 \u001b[0mnew_circ\u001b[0m \u001b[0;34m=\u001b[0m \u001b[0mmin\u001b[0m\u001b[0;34m(\u001b[0m\u001b[0mnew_circs\u001b[0m\u001b[0;34m,\u001b[0m \u001b[0mkey\u001b[0m\u001b[0;34m=\u001b[0m\u001b[0mlen\u001b[0m\u001b[0;34m)\u001b[0m\u001b[0;34m\u001b[0m\u001b[0;34m\u001b[0m\u001b[0m\n",
            "\u001b[0;32m/usr/local/lib/python3.8/site-packages/qiskit/quantum_info/synthesis/one_qubit_decompose.py\u001b[0m in \u001b[0;36m_decompose\u001b[0;34m(self, unitary, simplify, atol)\u001b[0m\n\u001b[1;32m    148\u001b[0m \u001b[0;34m\u001b[0m\u001b[0m\n\u001b[1;32m    149\u001b[0m     \u001b[0;32mdef\u001b[0m \u001b[0m_decompose\u001b[0m\u001b[0;34m(\u001b[0m\u001b[0mself\u001b[0m\u001b[0;34m,\u001b[0m \u001b[0munitary\u001b[0m\u001b[0;34m,\u001b[0m \u001b[0msimplify\u001b[0m\u001b[0;34m=\u001b[0m\u001b[0;32mTrue\u001b[0m\u001b[0;34m,\u001b[0m \u001b[0matol\u001b[0m\u001b[0;34m=\u001b[0m\u001b[0mDEFAULT_ATOL\u001b[0m\u001b[0;34m)\u001b[0m\u001b[0;34m:\u001b[0m\u001b[0;34m\u001b[0m\u001b[0;34m\u001b[0m\u001b[0m\n\u001b[0;32m--> 150\u001b[0;31m         \u001b[0mtheta\u001b[0m\u001b[0;34m,\u001b[0m \u001b[0mphi\u001b[0m\u001b[0;34m,\u001b[0m \u001b[0mlam\u001b[0m\u001b[0;34m,\u001b[0m \u001b[0mphase\u001b[0m \u001b[0;34m=\u001b[0m \u001b[0mself\u001b[0m\u001b[0;34m.\u001b[0m\u001b[0m_params\u001b[0m\u001b[0;34m(\u001b[0m\u001b[0munitary\u001b[0m\u001b[0;34m)\u001b[0m\u001b[0;34m\u001b[0m\u001b[0;34m\u001b[0m\u001b[0m\n\u001b[0m\u001b[1;32m    151\u001b[0m         circuit = self._circuit(theta, phi, lam, phase,\n\u001b[1;32m    152\u001b[0m                                 \u001b[0msimplify\u001b[0m\u001b[0;34m=\u001b[0m\u001b[0msimplify\u001b[0m\u001b[0;34m,\u001b[0m\u001b[0;34m\u001b[0m\u001b[0;34m\u001b[0m\u001b[0m\n",
            "\u001b[0;32m/usr/local/lib/python3.8/site-packages/qiskit/quantum_info/synthesis/one_qubit_decompose.py\u001b[0m in \u001b[0;36m_params_u3\u001b[0;34m(mat)\u001b[0m\n\u001b[1;32m    253\u001b[0m         \u001b[0;31m# Since the phase is wrt to a SU matrix we must rescale\u001b[0m\u001b[0;34m\u001b[0m\u001b[0;34m\u001b[0m\u001b[0;34m\u001b[0m\u001b[0m\n\u001b[1;32m    254\u001b[0m         \u001b[0;31m# phase to correct this\u001b[0m\u001b[0;34m\u001b[0m\u001b[0;34m\u001b[0m\u001b[0;34m\u001b[0m\u001b[0m\n\u001b[0;32m--> 255\u001b[0;31m         \u001b[0mtheta\u001b[0m\u001b[0;34m,\u001b[0m \u001b[0mphi\u001b[0m\u001b[0;34m,\u001b[0m \u001b[0mlam\u001b[0m\u001b[0;34m,\u001b[0m \u001b[0mphase\u001b[0m \u001b[0;34m=\u001b[0m \u001b[0mOneQubitEulerDecomposer\u001b[0m\u001b[0;34m.\u001b[0m\u001b[0m_params_zyz\u001b[0m\u001b[0;34m(\u001b[0m\u001b[0mmat\u001b[0m\u001b[0;34m)\u001b[0m\u001b[0;34m\u001b[0m\u001b[0;34m\u001b[0m\u001b[0m\n\u001b[0m\u001b[1;32m    256\u001b[0m         \u001b[0;32mreturn\u001b[0m \u001b[0mtheta\u001b[0m\u001b[0;34m,\u001b[0m \u001b[0mphi\u001b[0m\u001b[0;34m,\u001b[0m \u001b[0mlam\u001b[0m\u001b[0;34m,\u001b[0m \u001b[0mphase\u001b[0m \u001b[0;34m-\u001b[0m \u001b[0;36m0.5\u001b[0m \u001b[0;34m*\u001b[0m \u001b[0;34m(\u001b[0m\u001b[0mphi\u001b[0m \u001b[0;34m+\u001b[0m \u001b[0mlam\u001b[0m\u001b[0;34m)\u001b[0m\u001b[0;34m\u001b[0m\u001b[0;34m\u001b[0m\u001b[0m\n\u001b[1;32m    257\u001b[0m \u001b[0;34m\u001b[0m\u001b[0m\n",
            "\u001b[0;32m/usr/local/lib/python3.8/site-packages/qiskit/quantum_info/synthesis/one_qubit_decompose.py\u001b[0m in \u001b[0;36m_params_zyz\u001b[0;34m(mat)\u001b[0m\n\u001b[1;32m    207\u001b[0m         \u001b[0;31m# We rescale the input matrix to be special unitary (det(U) = 1)\u001b[0m\u001b[0;34m\u001b[0m\u001b[0;34m\u001b[0m\u001b[0;34m\u001b[0m\u001b[0m\n\u001b[1;32m    208\u001b[0m         \u001b[0;31m# This ensures that the quaternion representation is real\u001b[0m\u001b[0;34m\u001b[0m\u001b[0;34m\u001b[0m\u001b[0;34m\u001b[0m\u001b[0m\n\u001b[0;32m--> 209\u001b[0;31m         \u001b[0mcoeff\u001b[0m \u001b[0;34m=\u001b[0m \u001b[0mla\u001b[0m\u001b[0;34m.\u001b[0m\u001b[0mdet\u001b[0m\u001b[0;34m(\u001b[0m\u001b[0mmat\u001b[0m\u001b[0;34m)\u001b[0m\u001b[0;34m**\u001b[0m\u001b[0;34m(\u001b[0m\u001b[0;34m-\u001b[0m\u001b[0;36m0.5\u001b[0m\u001b[0;34m)\u001b[0m\u001b[0;34m\u001b[0m\u001b[0;34m\u001b[0m\u001b[0m\n\u001b[0m\u001b[1;32m    210\u001b[0m         \u001b[0mphase\u001b[0m \u001b[0;34m=\u001b[0m \u001b[0;34m-\u001b[0m\u001b[0mnp\u001b[0m\u001b[0;34m.\u001b[0m\u001b[0mangle\u001b[0m\u001b[0;34m(\u001b[0m\u001b[0mcoeff\u001b[0m\u001b[0;34m)\u001b[0m\u001b[0;34m\u001b[0m\u001b[0;34m\u001b[0m\u001b[0m\n\u001b[1;32m    211\u001b[0m         \u001b[0msu_mat\u001b[0m \u001b[0;34m=\u001b[0m \u001b[0mcoeff\u001b[0m \u001b[0;34m*\u001b[0m \u001b[0mmat\u001b[0m  \u001b[0;31m# U in SU(2)\u001b[0m\u001b[0;34m\u001b[0m\u001b[0;34m\u001b[0m\u001b[0m\n",
            "\u001b[0;32m/usr/local/lib/python3.8/site-packages/scipy/linalg/basic.py\u001b[0m in \u001b[0;36mdet\u001b[0;34m(a, overwrite_a, check_finite)\u001b[0m\n\u001b[1;32m   1030\u001b[0m \u001b[0;34m\u001b[0m\u001b[0m\n\u001b[1;32m   1031\u001b[0m     \"\"\"\n\u001b[0;32m-> 1032\u001b[0;31m     \u001b[0ma1\u001b[0m \u001b[0;34m=\u001b[0m \u001b[0m_asarray_validated\u001b[0m\u001b[0;34m(\u001b[0m\u001b[0ma\u001b[0m\u001b[0;34m,\u001b[0m \u001b[0mcheck_finite\u001b[0m\u001b[0;34m=\u001b[0m\u001b[0mcheck_finite\u001b[0m\u001b[0;34m)\u001b[0m\u001b[0;34m\u001b[0m\u001b[0;34m\u001b[0m\u001b[0m\n\u001b[0m\u001b[1;32m   1033\u001b[0m     \u001b[0;32mif\u001b[0m \u001b[0mlen\u001b[0m\u001b[0;34m(\u001b[0m\u001b[0ma1\u001b[0m\u001b[0;34m.\u001b[0m\u001b[0mshape\u001b[0m\u001b[0;34m)\u001b[0m \u001b[0;34m!=\u001b[0m \u001b[0;36m2\u001b[0m \u001b[0;32mor\u001b[0m \u001b[0ma1\u001b[0m\u001b[0;34m.\u001b[0m\u001b[0mshape\u001b[0m\u001b[0;34m[\u001b[0m\u001b[0;36m0\u001b[0m\u001b[0;34m]\u001b[0m \u001b[0;34m!=\u001b[0m \u001b[0ma1\u001b[0m\u001b[0;34m.\u001b[0m\u001b[0mshape\u001b[0m\u001b[0;34m[\u001b[0m\u001b[0;36m1\u001b[0m\u001b[0;34m]\u001b[0m\u001b[0;34m:\u001b[0m\u001b[0;34m\u001b[0m\u001b[0;34m\u001b[0m\u001b[0m\n\u001b[1;32m   1034\u001b[0m         \u001b[0;32mraise\u001b[0m \u001b[0mValueError\u001b[0m\u001b[0;34m(\u001b[0m\u001b[0;34m'expected square matrix'\u001b[0m\u001b[0;34m)\u001b[0m\u001b[0;34m\u001b[0m\u001b[0;34m\u001b[0m\u001b[0m\n",
            "\u001b[0;32m/usr/local/lib/python3.8/site-packages/scipy/_lib/_util.py\u001b[0m in \u001b[0;36m_asarray_validated\u001b[0;34m(a, check_finite, sparse_ok, objects_ok, mask_ok, as_inexact)\u001b[0m\n\u001b[1;32m    270\u001b[0m             \u001b[0;32mraise\u001b[0m \u001b[0mValueError\u001b[0m\u001b[0;34m(\u001b[0m\u001b[0;34m'masked arrays are not supported'\u001b[0m\u001b[0;34m)\u001b[0m\u001b[0;34m\u001b[0m\u001b[0;34m\u001b[0m\u001b[0m\n\u001b[1;32m    271\u001b[0m     \u001b[0mtoarray\u001b[0m \u001b[0;34m=\u001b[0m \u001b[0mnp\u001b[0m\u001b[0;34m.\u001b[0m\u001b[0masarray_chkfinite\u001b[0m \u001b[0;32mif\u001b[0m \u001b[0mcheck_finite\u001b[0m \u001b[0;32melse\u001b[0m \u001b[0mnp\u001b[0m\u001b[0;34m.\u001b[0m\u001b[0masarray\u001b[0m\u001b[0;34m\u001b[0m\u001b[0;34m\u001b[0m\u001b[0m\n\u001b[0;32m--> 272\u001b[0;31m     \u001b[0ma\u001b[0m \u001b[0;34m=\u001b[0m \u001b[0mtoarray\u001b[0m\u001b[0;34m(\u001b[0m\u001b[0ma\u001b[0m\u001b[0;34m)\u001b[0m\u001b[0;34m\u001b[0m\u001b[0;34m\u001b[0m\u001b[0m\n\u001b[0m\u001b[1;32m    273\u001b[0m     \u001b[0;32mif\u001b[0m \u001b[0;32mnot\u001b[0m \u001b[0mobjects_ok\u001b[0m\u001b[0;34m:\u001b[0m\u001b[0;34m\u001b[0m\u001b[0;34m\u001b[0m\u001b[0m\n\u001b[1;32m    274\u001b[0m         \u001b[0;32mif\u001b[0m \u001b[0ma\u001b[0m\u001b[0;34m.\u001b[0m\u001b[0mdtype\u001b[0m \u001b[0;32mis\u001b[0m \u001b[0mnp\u001b[0m\u001b[0;34m.\u001b[0m\u001b[0mdtype\u001b[0m\u001b[0;34m(\u001b[0m\u001b[0;34m'O'\u001b[0m\u001b[0;34m)\u001b[0m\u001b[0;34m:\u001b[0m\u001b[0;34m\u001b[0m\u001b[0;34m\u001b[0m\u001b[0m\n",
            "\u001b[0;32m/usr/local/lib/python3.8/site-packages/numpy/lib/function_base.py\u001b[0m in \u001b[0;36masarray_chkfinite\u001b[0;34m(a, dtype, order)\u001b[0m\n\u001b[1;32m    486\u001b[0m     \u001b[0ma\u001b[0m \u001b[0;34m=\u001b[0m \u001b[0masarray\u001b[0m\u001b[0;34m(\u001b[0m\u001b[0ma\u001b[0m\u001b[0;34m,\u001b[0m \u001b[0mdtype\u001b[0m\u001b[0;34m=\u001b[0m\u001b[0mdtype\u001b[0m\u001b[0;34m,\u001b[0m \u001b[0morder\u001b[0m\u001b[0;34m=\u001b[0m\u001b[0morder\u001b[0m\u001b[0;34m)\u001b[0m\u001b[0;34m\u001b[0m\u001b[0;34m\u001b[0m\u001b[0m\n\u001b[1;32m    487\u001b[0m     \u001b[0;32mif\u001b[0m \u001b[0ma\u001b[0m\u001b[0;34m.\u001b[0m\u001b[0mdtype\u001b[0m\u001b[0;34m.\u001b[0m\u001b[0mchar\u001b[0m \u001b[0;32min\u001b[0m \u001b[0mtypecodes\u001b[0m\u001b[0;34m[\u001b[0m\u001b[0;34m'AllFloat'\u001b[0m\u001b[0;34m]\u001b[0m \u001b[0;32mand\u001b[0m \u001b[0;32mnot\u001b[0m \u001b[0mnp\u001b[0m\u001b[0;34m.\u001b[0m\u001b[0misfinite\u001b[0m\u001b[0;34m(\u001b[0m\u001b[0ma\u001b[0m\u001b[0;34m)\u001b[0m\u001b[0;34m.\u001b[0m\u001b[0mall\u001b[0m\u001b[0;34m(\u001b[0m\u001b[0;34m)\u001b[0m\u001b[0;34m:\u001b[0m\u001b[0;34m\u001b[0m\u001b[0;34m\u001b[0m\u001b[0m\n\u001b[0;32m--> 488\u001b[0;31m         raise ValueError(\n\u001b[0m\u001b[1;32m    489\u001b[0m             \"array must not contain infs or NaNs\")\n\u001b[1;32m    490\u001b[0m     \u001b[0;32mreturn\u001b[0m \u001b[0ma\u001b[0m\u001b[0;34m\u001b[0m\u001b[0;34m\u001b[0m\u001b[0m\n",
            "\u001b[0;31mValueError\u001b[0m: array must not contain infs or NaNs"
          ]
        }
      ],
      "source": [
        "from os.path import exists\n",
        "from datetime import datetime\n",
        "\n",
        "e0 = np.min(np.linalg.eigvals(H)) # lowest eigenvalue for error checking\n",
        "\n",
        "df = pd.DataFrame(columns=[\"Date/Time\", \"Hamiltonian\", \"Weight Name\", \"n qubits\", \"Ansatz Name\", \"Ansatz Id\", \"Ansatz Layers\", \n",
        "\"Optimizer\", \"Optimizer Iterations\", \"Theoretical e0\", \"Iters for e0 5-approx\", \"Iters for e0 2-approx\", \"Iters for e0 1.1-approx\", \"Iters for e0 1.01-approx\",\n",
        "\"Energies for Lowest Cost Iteration\", \"Data for Lowest Cost Iteration\", \"Simulation Data\"])\n",
        "\n",
        "if exists(\"SSVQE_results.df\"):\n",
        "    df = pd.read_pickle(\"SSVQE_results.df\")\n",
        "\n",
        "for a in ANSATZES:\n",
        "\n",
        "    if n == 4 or a not in [13, 14]: # these two ansatzes are 4-qubit specific\n",
        "\n",
        "        results = SPSA_optimize(Ansatz(a), iterations)\n",
        "        best = sorted(results, key=lambda x: x[2])[0] # lowest cost function\n",
        "        a0 = dict()\n",
        "        for i in range(K):\n",
        "            circuit = k_state(i).compose(ansatz_to_fn[ANSATZ](best[1]))\n",
        "            result = np.array(execute(circuit, Aer.get_backend(\"statevector_simulator\")).result().get_statevector())\n",
        "            resultH = np.conj(result).T\n",
        "            a0[i] = np.real(resultH @ H @ result)\n",
        "\n",
        "        a5, a2, a1d1, a1d01 = None, None, None, None\n",
        "        for i in range(iterations):\n",
        "\n",
        "            # COMPUTE THE EV(s)\n",
        "            evs = dict()\n",
        "            for j in range(K):\n",
        "                circuit = k_state(j).compose(ansatz_to_fn[ANSATZ](results[i][1]))\n",
        "                result = np.array(execute(circuit, Aer.get_backend(\"statevector_simulator\")).result().get_statevector())\n",
        "                resultH = np.conj(result).T\n",
        "                evs[j] = np.real(resultH @ H @ result)\n",
        "\n",
        "            # EV CAN'T BE TOO LOW \n",
        "            if min(evs.values()) < e0:\n",
        "                logging.critical(f\"FATAL: measurement outcome of {min(evs.values())} during iteration {i} violates variational principle, i.e. lowest possible measurement={e0}.\")\n",
        "\n",
        "            # GROUND STATE APPROX FACTORS\n",
        "            factor = evs[0] / e0\n",
        "            if not a5 and factor <= 5:\n",
        "                a5 = i\n",
        "            if not a2 and factor <= 2:\n",
        "                a2 = i\n",
        "            if not a1d1 and factor <= 1.1:\n",
        "                a1d1 = i\n",
        "            if not a1d01 and factor <= 1.01:\n",
        "                a1d01 = i\n",
        "                    \n",
        "        df.loc[len(df.index)] = [datetime.now(), \"1D Infinite Well\", weight_name, n, Ansatz(a).name, a, ITERS, \"SPSA\", iterations, e0, a5, a2, a1d1, a1d01, a0, best, results]\n",
        "\n",
        "    df.to_pickle(\"SSVQE_results.df\") # save at intermediate steps so we can kill simulation even when only partially done \n"
      ]
    },
    {
      "cell_type": "markdown",
      "metadata": {
        "id": "JSlJECaNuhVp"
      },
      "source": [
        "##### More Analysis (TODO)"
      ]
    },
    {
      "cell_type": "markdown",
      "metadata": {
        "id": "gK4XUYX-uhVp"
      },
      "source": []
    }
  ],
  "metadata": {
    "colab": {
      "collapsed_sections": [],
      "name": "VQE_Hamiltonian.ipynb",
      "provenance": []
    },
    "interpreter": {
      "hash": "aee8b7b246df8f9039afb4144a1f6fd8d2ca17a180786b69acc140d282b71a49"
    },
    "kernelspec": {
      "display_name": "Python 3.8.6 64-bit",
      "language": "python",
      "name": "python3"
    },
    "language_info": {
      "codemirror_mode": {
        "name": "ipython",
        "version": 3
      },
      "file_extension": ".py",
      "mimetype": "text/x-python",
      "name": "python",
      "nbconvert_exporter": "python",
      "pygments_lexer": "ipython3",
      "version": "3.8.6"
    },
    "vscode": {
      "interpreter": {
        "hash": "0afc27533c87ca2e6ce5ae5b782b251061ee478274db3b1814284dc6dba9e6a7"
      }
    }
  },
  "nbformat": 4,
  "nbformat_minor": 0
}
